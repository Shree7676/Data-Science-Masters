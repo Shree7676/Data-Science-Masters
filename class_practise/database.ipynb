{
 "cells": [
  {
   "cell_type": "code",
   "execution_count": 6,
   "metadata": {},
   "outputs": [
    {
     "name": "stdout",
     "output_type": "stream",
     "text": [
      "('book_shop',)\n",
      "('ig_clone',)\n",
      "('information_schema',)\n",
      "('mysql',)\n",
      "('performance_schema',)\n",
      "('relation_tables',)\n",
      "('sakila',)\n",
      "('shirts',)\n",
      "('shree',)\n",
      "('student_paper',)\n",
      "('sys',)\n",
      "('world',)\n"
     ]
    }
   ],
   "source": [
    "import mysql.connector\n",
    "\n",
    "mydb = mysql.connector.connect(\n",
    "    host=\"localhost\",\n",
    "    user=\"root\",\n",
    "    password=\"$AWS7676\"\n",
    ")\n",
    "mycursor=mydb.cursor()\n",
    "mycursor.execute(\"SHOW DATABASES\")\n",
    "for x in mycursor:\n",
    "    print(x)\n",
    "mydb.close()"
   ]
  },
  {
   "cell_type": "code",
   "execution_count": null,
   "metadata": {},
   "outputs": [],
   "source": [
    "mycursor=mydb.cursor()\n",
    "\n",
    "# mycursor.execute(\"create database flaskdb\") # IF NOT EXISTS flaskdb\n",
    "# mycursor.execute(\"use flaskdb\")\n",
    "# mycursor.execute(\"create table partners (id INT PRIMARY KEY AUTO_INCREMENT NOT NULL, name VARCHAR(20) NOT NULL , age INT NOT NULL)\")\n",
    "\n",
    "sql_add=\"INSERT INTO partners(name,age) VALUES (%s , %s)\"\n",
    "\n",
    "# values=(\"shiva\",100)\n",
    "# mycursor.execute(sql_add,values)\n",
    "\n",
    "for_multiple_values=[(\"ram\",100),\n",
    "                     (\"shree\",24)]\n",
    "mycursor.executemany(sql_add,for_multiple_values)\n",
    "mydb.commit()"
   ]
  },
  {
   "attachments": {},
   "cell_type": "markdown",
   "metadata": {},
   "source": [
    "# Always use PLACEHOLDER >> %s  everywhere like 'like',=..."
   ]
  },
  {
   "cell_type": "code",
   "execution_count": 1,
   "metadata": {},
   "outputs": [],
   "source": [
    "import mysql.connector\n",
    "\n",
    "mydb = mysql.connector.connect(\n",
    "    host=\"localhost\",\n",
    "    user=\"root\",\n",
    "    password=\"$AWS7676\",\n",
    "    database=\"flaskdb\"\n",
    ")\n",
    "\n"
   ]
  },
  {
   "cell_type": "code",
   "execution_count": 2,
   "metadata": {},
   "outputs": [
    {
     "name": "stdout",
     "output_type": "stream",
     "text": [
      "(1, 'shiva', 100)\n",
      "(2, 'ram', 100)\n",
      "(3, 'shree', 24)\n"
     ]
    },
    {
     "data": {
      "text/plain": [
       "[None, None, None]"
      ]
     },
     "execution_count": 2,
     "metadata": {},
     "output_type": "execute_result"
    }
   ],
   "source": [
    "mycursor=mydb.cursor()\n",
    "mycursor.execute(\"SELECT * FROM partners\")\n",
    "\n",
    "myresult=mycursor.fetchall() #fetchone()\n",
    "list(map(lambda x : print(x),myresult))"
   ]
  },
  {
   "cell_type": "code",
   "execution_count": null,
   "metadata": {},
   "outputs": [],
   "source": []
  }
 ],
 "metadata": {
  "kernelspec": {
   "display_name": "Python 3",
   "language": "python",
   "name": "python3"
  },
  "language_info": {
   "codemirror_mode": {
    "name": "ipython",
    "version": 3
   },
   "file_extension": ".py",
   "mimetype": "text/x-python",
   "name": "python",
   "nbconvert_exporter": "python",
   "pygments_lexer": "ipython3",
   "version": "3.11.0"
  },
  "orig_nbformat": 4
 },
 "nbformat": 4,
 "nbformat_minor": 2
}

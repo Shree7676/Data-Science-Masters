{
 "cells": [
  {
   "cell_type": "code",
   "execution_count": 1,
   "metadata": {},
   "outputs": [],
   "source": [
    "from flask import Flask, render_template, request\n",
    "from urllib.request import urlopen\n",
    "from bs4 import BeautifulSoup as bs"
   ]
  },
  {
   "cell_type": "code",
   "execution_count": 2,
   "metadata": {},
   "outputs": [
    {
     "name": "stdout",
     "output_type": "stream",
     "text": [
      "'NoneType' object has no attribute 'a' <div class=\"_1AtVbE col-12-12\" style=\"padding:0px 0px 10px 0px\"><a class=\"UYS4aW _3E_YdP\" href=\"/lenovo-smart-tab-m10-fhd-plus-2nd-gen-google-assistant-4-gb-ram-128-rom-10-3-inch-wi-fi-4g-tablet-iron-grey/p/itm4984e816cd7cf?pid=TABFT7ZJ4YNHFGPA&amp;param=5&amp;ctx=eyJjYXJkQ29udGV4dCI6eyJhdHRyaWJ1dGVzIjp7InRpdGxlIjp7Im11bHRpVmFsdWVkQXR0cmlidXRlIjp7ImtleSI6InRpdGxlIiwiaW5mZXJlbmNlVHlwZSI6IlRJVExFIiwidmFsdWVzIjpbIk0xMCBGSEQgUGx1cyJdLCJ2YWx1ZVR5cGUiOiJNVUxUSV9WQUxVRUQifX19fX0%3D&amp;otracker=sp_browse_announcement_search.flipkart.com\"><div class=\"_3ywSr_\" style=\"padding-top:53.57%\"><div class=\"_1bEAQy _312yBx\" style=\"padding-top:53.57%\"><img alt=\"tab\" class=\"_2OHU_q _2WCh1J\"/><img alt=\"tab\" class=\"kJjFO0 _3DIhEh _9JTfqZ\" src=\"https://rukminim1.flixcart.com/flap/100/100/image/6017f6ff157abd8b.jpg?q=50\"/></div></div><div class=\"_1sPNy4\"><div class=\"_2LR_KO\">M10 FHD Plus</div><div class=\"tMzY0d\">By Lenovo! Shop Now!</div></div></a></div>\n",
      "'NoneType' object is not subscriptable <div class=\"_1AtVbE col-12-12\"><div class=\"_1KOcBL\"><section class=\"JWMl0H _2hbLCH\"><div class=\"_2ssEMF\"><div class=\"_3V8rao\"><span>Filters</span></div></div></section><div class=\"_2q_g77\"><section class=\"_2aDURW\"><div class=\"_2lfNTw\"><span>CATEGORIES</span></div><div><div class=\"TB_InB\"><span><svg class=\"_2Iqv73\" height=\"10\" viewbox=\"0 0 16 27\" width=\"10\" xmlns=\"http://www.w3.org/2000/svg\"><path class=\"_3zK8He\" d=\"M16 23.207L6.11 13.161 16 3.093 12.955 0 0 13.161l12.955 13.161z\" fill=\"#fff\"></path></svg></span><a class=\"_2qvBBJ _2Mji8F\" href=\"/mobiles-accessories/pr?sid=tyy&amp;q=tablet&amp;otracker=categorytree\" title=\"Mobiles &amp; Accessories\">Mobiles &amp; Accessories</a></div></div><div><div class=\"TB_InB\"><span><svg class=\"_2Iqv73 _2tTQHw\" height=\"10\" viewbox=\"0 0 16 27\" width=\"10\" xmlns=\"http://www.w3.org/2000/svg\"><path class=\"_3iSBSZ\" d=\"M16 23.207L6.11 13.161 16 3.093 12.955 0 0 13.161l12.955 13.161z\" fill=\"#fff\"></path></svg></span><a class=\"_1jJQdf _2Mji8F\" href=\"/tablets/pr?sid=tyy,hry&amp;q=tablet&amp;otracker=categorytree\" title=\"Tablets\">Tablets</a></div><div><a class=\"_2SqgSY\" href=\"/tablets/tablets-with-call-facility/pr?sid=tyy,hry,adj&amp;q=tablet&amp;otracker=categorytree\" title=\"Tablets with Call Facility\">Tablets with Call Facility</a><a class=\"_2SqgSY\" href=\"/tablets/tablets-without-call-facility/pr?sid=tyy,hry,jut&amp;q=tablet&amp;otracker=categorytree\" title=\"Tablets without Call Facility\">Tablets without Call Facility</a></div></div></section></div><section class=\"_2yz7eI _2hbLCH\"><div class=\"_3KxRU6 _2ssEMF\"><div class=\"UR1L2I _3V8rao\"><span>Price</span></div></div><div class=\"_2NBiOm\"><div class=\"_1nneZ0\"><div class=\"_2TbXIJ\" style=\"height:0;width:0\"></div><div class=\"_2TbXIJ\" style=\"height:0;width:0\"></div><div class=\"_2TbXIJ\" style=\"height:0;width:0\"></div><div class=\"_2TbXIJ\" style=\"height:0;width:0\"></div><div class=\"_2TbXIJ\" style=\"height:0;width:0\"></div></div></div><div class=\"_2r34SG\"><div class=\"_12FhcQ\"><div class=\"_31Kbhn _28DFQy\"><div class=\"_3FdLqY\"></div></div><div class=\"_31Kbhn WC_zGJ\"><div class=\"_3FdLqY\"></div></div><div class=\"_2IN3-t\"></div><div class=\"_2IN3-t _1mRwrD\"></div></div><div class=\"_15GU70\"><div class=\"_1ftpgI\" style=\"width:undefinedpx\">.</div><div class=\"_1ftpgI\" style=\"width:undefinedpx\">.</div><div class=\"_1ftpgI\" style=\"width:undefinedpx\">.</div><div class=\"_1ftpgI\" style=\"width:undefinedpx\">.</div><div class=\"_1ftpgI\" style=\"width:undefinedpx\">.</div><div class=\"_1ftpgI\" style=\"width:0px\">.</div></div></div><div class=\"_2b0bUo\"><div class=\"_1YAKP4\"><select class=\"_2YxCDZ\"><option class=\"_3AsjWR\" selected=\"\" value=\"Min\">Min</option><option class=\"_3AsjWR\" value=\"5000\">₹5000</option><option class=\"_3AsjWR\" value=\"10000\">₹10000</option><option class=\"_3AsjWR\" value=\"15000\">₹15000</option><option class=\"_3AsjWR\" value=\"20000\">₹20000</option></select></div><div class=\"_3zohzR\">to</div><div class=\"_3uDYxP\"><select class=\"_2YxCDZ\"><option class=\"_3AsjWR\" value=\"5000\">₹5000</option><option class=\"_3AsjWR\" value=\"10000\">₹10000</option><option class=\"_3AsjWR\" value=\"15000\">₹15000</option><option class=\"_3AsjWR\" value=\"20000\">₹20000</option><option class=\"_3AsjWR\" selected=\"\" value=\"Max\">₹20000+</option></select></div></div></section><section class=\"_2hbLCH _24gLJx\"><label class=\"_2iDkf8 shbqsL\"><input class=\"_30VH1S\" readonly=\"\" type=\"checkbox\"/><div class=\"_24_Dny _3tCU7L\"></div><div class=\"_3879cV\"><div class=\"_3U-Vxu\"><img class=\"_3U-Vxu\" height=\"21\" src=\"//static-assets-web.flixcart.com/fk-p-linchpin-web/fk-cp-zion/img/fa_62673a.png\"/></div></div></label><div class=\"Bv11UC\"><span class=\"question\">?</span></div></section><section class=\"_167Mu3 _2hbLCH\"><div class=\"_213eRC _2ssEMF\"><div class=\"_2gmUFU _3V8rao\">Brand</div><svg class=\"ttx38n\" height=\"27\" viewbox=\"0 0 16 27\" width=\"16\" xmlns=\"http://www.w3.org/2000/svg\"><path class=\"IIvmWM\" d=\"M16 23.207L6.11 13.161 16 3.093 12.955 0 0 13.161l12.955 13.161z\" fill=\"#fff\"></path></svg></div></section><section class=\"_167Mu3 _2hbLCH\"><div class=\"_213eRC _2ssEMF\"><div class=\"_2gmUFU _3V8rao\">Display Size</div><svg class=\"ttx38n\" height=\"27\" viewbox=\"0 0 16 27\" width=\"16\" xmlns=\"http://www.w3.org/2000/svg\"><path class=\"IIvmWM\" d=\"M16 23.207L6.11 13.161 16 3.093 12.955 0 0 13.161l12.955 13.161z\" fill=\"#fff\"></path></svg></div></section><section class=\"_167Mu3 _2hbLCH\"><div class=\"_213eRC _2ssEMF\"><div class=\"_2gmUFU _3V8rao\">GST Invoice Available</div><svg class=\"ttx38n\" height=\"27\" viewbox=\"0 0 16 27\" width=\"16\" xmlns=\"http://www.w3.org/2000/svg\"><path class=\"IIvmWM\" d=\"M16 23.207L6.11 13.161 16 3.093 12.955 0 0 13.161l12.955 13.161z\" fill=\"#fff\"></path></svg></div></section><section class=\"_167Mu3 _2hbLCH\"><div class=\"_213eRC _2ssEMF\"><div class=\"_2gmUFU _3V8rao\">Connectivity</div><svg class=\"ttx38n\" height=\"27\" viewbox=\"0 0 16 27\" width=\"16\" xmlns=\"http://www.w3.org/2000/svg\"><path class=\"IIvmWM\" d=\"M16 23.207L6.11 13.161 16 3.093 12.955 0 0 13.161l12.955 13.161z\" fill=\"#fff\"></path></svg></div></section><section class=\"_167Mu3 _2hbLCH\"><div class=\"_213eRC _2ssEMF\"><div class=\"_2gmUFU _3V8rao\">RAM</div><svg class=\"ttx38n\" height=\"27\" viewbox=\"0 0 16 27\" width=\"16\" xmlns=\"http://www.w3.org/2000/svg\"><path class=\"IIvmWM\" d=\"M16 23.207L6.11 13.161 16 3.093 12.955 0 0 13.161l12.955 13.161z\" fill=\"#fff\"></path></svg></div></section><section class=\"_167Mu3 _2hbLCH\"><div class=\"_213eRC _2ssEMF\"><div class=\"_2gmUFU _3V8rao\">Customer Ratings</div><svg class=\"ttx38n _3DyGEM\" height=\"27\" viewbox=\"0 0 16 27\" width=\"16\" xmlns=\"http://www.w3.org/2000/svg\"><path class=\"IIvmWM\" d=\"M16 23.207L6.11 13.161 16 3.093 12.955 0 0 13.161l12.955 13.161z\" fill=\"#fff\"></path></svg></div><div class=\"_3FPh42\"><div class=\"_2d0we9\"><div class=\"_4921Z t0pPfW\" title=\"4★ &amp; above\"><div class=\"_1Y4Vhm _4FO7b6\"><label class=\"_2iDkf8 t0pPfW\"><input class=\"_30VH1S\" readonly=\"\" type=\"checkbox\"/><div class=\"_24_Dny\"></div><div class=\"_3879cV\">4★ &amp; above</div></label></div></div><div class=\"_4921Z t0pPfW\" title=\"3★ &amp; above\"><div class=\"_1Y4Vhm _4FO7b6\"><label class=\"_2iDkf8 t0pPfW\"><input class=\"_30VH1S\" readonly=\"\" type=\"checkbox\"/><div class=\"_24_Dny\"></div><div class=\"_3879cV\">3★ &amp; above</div></label></div></div><div class=\"_4921Z t0pPfW\" title=\"2★ &amp; above\"><div class=\"_1Y4Vhm _4FO7b6\"><label class=\"_2iDkf8 t0pPfW\"><input class=\"_30VH1S\" readonly=\"\" type=\"checkbox\"/><div class=\"_24_Dny\"></div><div class=\"_3879cV\">2★ &amp; above</div></label></div></div><div class=\"_4921Z t0pPfW\" title=\"1★ &amp; above\"><div class=\"_1Y4Vhm _4FO7b6\"><label class=\"_2iDkf8 t0pPfW\"><input class=\"_30VH1S\" readonly=\"\" type=\"checkbox\"/><div class=\"_24_Dny\"></div><div class=\"_3879cV\">1★ &amp; above</div></label></div></div></div></div></section><section class=\"_167Mu3 _2hbLCH\"><div class=\"_213eRC _2ssEMF\"><div class=\"_2gmUFU _3V8rao\">Internal Storage</div><svg class=\"ttx38n\" height=\"27\" viewbox=\"0 0 16 27\" width=\"16\" xmlns=\"http://www.w3.org/2000/svg\"><path class=\"IIvmWM\" d=\"M16 23.207L6.11 13.161 16 3.093 12.955 0 0 13.161l12.955 13.161z\" fill=\"#fff\"></path></svg></div></section><section class=\"_167Mu3 _2hbLCH\"><div class=\"_213eRC _2ssEMF\"><div class=\"_2gmUFU _3V8rao\">Operating System</div><svg class=\"ttx38n\" height=\"27\" viewbox=\"0 0 16 27\" width=\"16\" xmlns=\"http://www.w3.org/2000/svg\"><path class=\"IIvmWM\" d=\"M16 23.207L6.11 13.161 16 3.093 12.955 0 0 13.161l12.955 13.161z\" fill=\"#fff\"></path></svg></div></section><section class=\"_167Mu3 _2hbLCH\"><div class=\"_213eRC _2ssEMF\"><div class=\"_2gmUFU _3V8rao\">Display</div><svg class=\"ttx38n\" height=\"27\" viewbox=\"0 0 16 27\" width=\"16\" xmlns=\"http://www.w3.org/2000/svg\"><path class=\"IIvmWM\" d=\"M16 23.207L6.11 13.161 16 3.093 12.955 0 0 13.161l12.955 13.161z\" fill=\"#fff\"></path></svg></div></section><section class=\"_167Mu3 _2hbLCH\"><div class=\"_213eRC _2ssEMF\"><div class=\"_2gmUFU _3V8rao\">Primary Camera</div><svg class=\"ttx38n\" height=\"27\" viewbox=\"0 0 16 27\" width=\"16\" xmlns=\"http://www.w3.org/2000/svg\"><path class=\"IIvmWM\" d=\"M16 23.207L6.11 13.161 16 3.093 12.955 0 0 13.161l12.955 13.161z\" fill=\"#fff\"></path></svg></div></section><section class=\"_167Mu3 _2hbLCH\"><div class=\"_213eRC _2ssEMF\"><div class=\"_2gmUFU _3V8rao\">Battery Capacity</div><svg class=\"ttx38n\" height=\"27\" viewbox=\"0 0 16 27\" width=\"16\" xmlns=\"http://www.w3.org/2000/svg\"><path class=\"IIvmWM\" d=\"M16 23.207L6.11 13.161 16 3.093 12.955 0 0 13.161l12.955 13.161z\" fill=\"#fff\"></path></svg></div></section><section class=\"_167Mu3 _2hbLCH\"><div class=\"_213eRC _2ssEMF\"><div class=\"_2gmUFU _3V8rao\">Voice Calling Facility</div><svg class=\"ttx38n\" height=\"27\" viewbox=\"0 0 16 27\" width=\"16\" xmlns=\"http://www.w3.org/2000/svg\"><path class=\"IIvmWM\" d=\"M16 23.207L6.11 13.161 16 3.093 12.955 0 0 13.161l12.955 13.161z\" fill=\"#fff\"></path></svg></div></section><section class=\"_167Mu3 _2hbLCH\"><div class=\"_213eRC _2ssEMF\"><div class=\"_2gmUFU _3V8rao\">Offers</div><svg class=\"ttx38n _3DyGEM\" height=\"27\" viewbox=\"0 0 16 27\" width=\"16\" xmlns=\"http://www.w3.org/2000/svg\"><path class=\"IIvmWM\" d=\"M16 23.207L6.11 13.161 16 3.093 12.955 0 0 13.161l12.955 13.161z\" fill=\"#fff\"></path></svg></div><div class=\"_3FPh42\"><div class=\"_2d0we9\"><div class=\"_4921Z t0pPfW\" title=\"Buy More, Save More\"><div class=\"_1Y4Vhm _4FO7b6\"><label class=\"_2iDkf8 t0pPfW\"><input class=\"_30VH1S\" readonly=\"\" type=\"checkbox\"/><div class=\"_24_Dny\"></div><div class=\"_3879cV\">Buy More, Save More</div></label></div></div><div class=\"_4921Z t0pPfW\" title=\"No Cost EMI\"><div class=\"_1Y4Vhm _4FO7b6\"><label class=\"_2iDkf8 t0pPfW\"><input class=\"_30VH1S\" readonly=\"\" type=\"checkbox\"/><div class=\"_24_Dny\"></div><div class=\"_3879cV\">No Cost EMI</div></label></div></div><div class=\"_4921Z t0pPfW\" title=\"Special Price\"><div class=\"_1Y4Vhm _4FO7b6\"><label class=\"_2iDkf8 t0pPfW\"><input class=\"_30VH1S\" readonly=\"\" type=\"checkbox\"/><div class=\"_24_Dny\"></div><div class=\"_3879cV\">Special Price</div></label></div></div></div></div></section><section class=\"_167Mu3 _2hbLCH\"><div class=\"_213eRC _2ssEMF\"><div class=\"_2gmUFU _3V8rao\">Processor Clock Speed</div><svg class=\"ttx38n\" height=\"27\" viewbox=\"0 0 16 27\" width=\"16\" xmlns=\"http://www.w3.org/2000/svg\"><path class=\"IIvmWM\" d=\"M16 23.207L6.11 13.161 16 3.093 12.955 0 0 13.161l12.955 13.161z\" fill=\"#fff\"></path></svg></div></section><section class=\"_167Mu3 _2hbLCH\"><div class=\"_213eRC _2ssEMF\"><div class=\"_2gmUFU _3V8rao\">Discount</div><svg class=\"ttx38n _3DyGEM\" height=\"27\" viewbox=\"0 0 16 27\" width=\"16\" xmlns=\"http://www.w3.org/2000/svg\"><path class=\"IIvmWM\" d=\"M16 23.207L6.11 13.161 16 3.093 12.955 0 0 13.161l12.955 13.161z\" fill=\"#fff\"></path></svg></div><div class=\"_3FPh42\"><div class=\"_2d0we9\"><div class=\"_4921Z t0pPfW\" title=\"10% or more\"><div class=\"_1Y4Vhm _4FO7b6\"><label class=\"_2iDkf8 t0pPfW\"><input class=\"_30VH1S\" readonly=\"\" type=\"checkbox\"/><div class=\"_24_Dny\"></div><div class=\"_3879cV\">10% or more</div></label></div></div><div class=\"_4921Z t0pPfW\" title=\"20% or more\"><div class=\"_1Y4Vhm _4FO7b6\"><label class=\"_2iDkf8 t0pPfW\"><input class=\"_30VH1S\" readonly=\"\" type=\"checkbox\"/><div class=\"_24_Dny\"></div><div class=\"_3879cV\">20% or more</div></label></div></div><div class=\"_4921Z t0pPfW\" title=\"30% or more\"><div class=\"_1Y4Vhm _4FO7b6\"><label class=\"_2iDkf8 t0pPfW\"><input class=\"_30VH1S\" readonly=\"\" type=\"checkbox\"/><div class=\"_24_Dny\"></div><div class=\"_3879cV\">30% or more</div></label></div></div><div class=\"_4921Z t0pPfW\" title=\"40% or more\"><div class=\"_1Y4Vhm _4FO7b6\"><label class=\"_2iDkf8 t0pPfW\"><input class=\"_30VH1S\" readonly=\"\" type=\"checkbox\"/><div class=\"_24_Dny\"></div><div class=\"_3879cV\">40% or more</div></label></div></div><div class=\"_4921Z t0pPfW\" title=\"10% and below\"><div class=\"_1Y4Vhm _4FO7b6\"><label class=\"_2iDkf8 t0pPfW\"><input class=\"_30VH1S\" readonly=\"\" type=\"checkbox\"/><div class=\"_24_Dny\"></div><div class=\"_3879cV\">10% and below</div></label></div></div></div></div></section><section class=\"_167Mu3 _2hbLCH\"><div class=\"_213eRC _2ssEMF\"><div class=\"_2gmUFU _3V8rao\">Availability</div><svg class=\"ttx38n\" height=\"27\" viewbox=\"0 0 16 27\" width=\"16\" xmlns=\"http://www.w3.org/2000/svg\"><path class=\"IIvmWM\" d=\"M16 23.207L6.11 13.161 16 3.093 12.955 0 0 13.161l12.955 13.161z\" fill=\"#fff\"></path></svg></div></section></div></div>\n",
      "'NoneType' object has no attribute 'div' <div class=\"_1AtVbE col-12-12\"><a class=\"_1nY1tt\" href=\"/buying-guide/tablets?sid=tyy,hry&amp;otracker=bg_from_browse_lhs\" title=\"Buying Guide\"><div><span>Need help?</span></div><div class=\"_1mVNvF\"><span>Help me decide</span><svg class=\"ViewtL\" height=\"27\" viewbox=\"0 0 16 27\" width=\"16\" xmlns=\"http://www.w3.org/2000/svg\"><path class=\"_2Zt1Py\" d=\"M16 23.207L6.11 13.161 16 3.093 12.955 0 0 13.161l12.955 13.161z\" fill=\"#fff\"></path></svg></div><img alt=\"Buying Guide\" src=\"//static-assets-web.flixcart.com/fk-p-linchpin-web/fk-cp-zion/img/buying-guide-illustration_4dd325.png\"/></a></div>\n",
      "'NoneType' object has no attribute 'a' <div class=\"_1AtVbE col-12-12\"><div><div class=\"_2MImiq\"><span>Page 1 of 44</span><nav class=\"yFHi8N\"><a class=\"ge-49M _2Kfbh8\" href=\"/search?q=tablet&amp;page=1\">1</a><a class=\"ge-49M\" href=\"/search?q=tablet&amp;page=2\">2</a><a class=\"ge-49M\" href=\"/search?q=tablet&amp;page=3\">3</a><a class=\"ge-49M\" href=\"/search?q=tablet&amp;page=4\">4</a><a class=\"ge-49M\" href=\"/search?q=tablet&amp;page=5\">5</a><a class=\"ge-49M\" href=\"/search?q=tablet&amp;page=6\">6</a><a class=\"ge-49M\" href=\"/search?q=tablet&amp;page=7\">7</a><a class=\"ge-49M\" href=\"/search?q=tablet&amp;page=8\">8</a><a class=\"ge-49M\" href=\"/search?q=tablet&amp;page=9\">9</a><a class=\"ge-49M\" href=\"/search?q=tablet&amp;page=10\">10</a><a class=\"_1LKTO3\" href=\"/search?q=tablet&amp;page=2\"><span>Next</span></a></nav><span class=\"_22Tduf\"></span></div></div></div>\n",
      "'NoneType' object has no attribute 'a' <div class=\"_1AtVbE col-12-12\" style=\"margin:10px 0px 0px 0px\"><div class=\"_1anD2T\"><span class=\"PTpXCl\">Did you find what you were looking for?</span><div class=\"_1ye8x2 _1xLf4B\"><span class=\"_2eFmU2 _3ZMjMT\">Yes</span><span class=\"_2eFmU2 _3ZMjMT\">No</span></div></div></div>\n",
      "'NoneType' object has no attribute 'a' <div class=\"_1AtVbE col-12-12\" style=\"padding:16px 0px 0px 0px\"><div class=\"_3E8aIl X3IECw row\"><div class=\"_88-NUv\">Reviews for Popular Tablets</div><div class=\"_2nRPpA\"><div class=\"_1Ni40J\"><div class=\"_3hVUcF\"><div class=\"CXW8mj\" style=\"height:150px;width:150px\"><img alt=\"Lenovo Smart Tab M10 FHD Plus (2nd Gen) with Google Assistant 4 GB RAM 128 GB ROM 10.3 inch with Wi-Fi+4G Tablet (Iron Grey)\" class=\"_396cs4\" loading=\"lazy\" src=\"https://rukminim1.flixcart.com/image/300/300/knt7zbk0/tablet/7/e/k/za6s0003in-lenovo-original-imag2ezcpfygzhda.jpeg?q=90\"/></div></div><div class=\"_1kLt05\"><a href=\"/lenovo-smart-tab-m10-fhd-plus-2nd-gen-google-assistant-4-gb-ram-128-rom-10-3-inch-wi-fi-4g-tablet-iron-grey/p/itm93deec6138f78?pid=TABFT7ZJ4YNHFGPA&amp;marketplace=FLIPKART\" rel=\"noopener noreferrer\" target=\"_blank\"><div class=\"_1W9f5C\"><div>1. Lenovo Smart Tab M10 FHD Pl...</div></div><div class=\"_3VDxyD\"><div class=\"_3LWZlK\">4.3<img class=\"_1wB99o\" src=\"data:image/svg+xml;base64,PHN2ZyB4bWxucz0iaHR0cDovL3d3dy53My5vcmcvMjAwMC9zdmciIHdpZHRoPSIxMyIgaGVpZ2h0PSIxMiI+PHBhdGggZmlsbD0iI0ZGRiIgZD0iTTYuNSA5LjQzOWwtMy42NzQgMi4yMy45NC00LjI2LTMuMjEtMi44ODMgNC4yNTQtLjQwNEw2LjUuMTEybDEuNjkgNC4wMSA0LjI1NC40MDQtMy4yMSAyLjg4Mi45NCA0LjI2eiIvPjwvc3ZnPg==\"/></div><span class=\"_34hpFu\"><span>6,822 Ratings</span><span><span class=\"_2oY1qB\">&amp;</span><span>683 Reviews</span></span></span></div><div class=\"_2wYYVP\"><div class=\"_25b18c\"><div class=\"_30jeq3 UMT9wN\">₹19,999</div><div class=\"_3Ay6Sb _2FuKQX\"><span>44% off</span></div></div></div></a><ul class=\"_1Sq2Fs\"><li class=\"_2OosNL\">4 GB RAM | 128 GB ROM | Expandable Upto 256 GB</li><li class=\"_2OosNL\">26.16 cm (10.3 inch) Full HD Display</li><li class=\"_2OosNL\">8 MP Primary Camera | 5 MP Front</li></ul></div></div><div class=\"_2tzWk4\"><div class=\"_1A_Aux\">Most Helpful Review</div><div class=\"col\"><div class=\"col _2wzgFH _2cVXgz\"><div class=\"row\"><div class=\"_3LWZlK _1BLPMq\">4<img class=\"_1wB99o\" src=\"data:image/svg+xml;base64,PHN2ZyB4bWxucz0iaHR0cDovL3d3dy53My5vcmcvMjAwMC9zdmciIHdpZHRoPSIxMyIgaGVpZ2h0PSIxMiI+PHBhdGggZmlsbD0iI0ZGRiIgZD0iTTYuNSA5LjQzOWwtMy42NzQgMi4yMy45NC00LjI2LTMuMjEtMi44ODMgNC4yNTQtLjQwNEw2LjUuMTEybDEuNjkgNC4wMSA0LjI1NC40MDQtMy4yMSAyLjg4Mi45NCA0LjI2eiIvPjwvc3ZnPg==\"/></div><p class=\"_2-N8zT\">Nice product</p></div><div class=\"row\"><div class=\"t-ZTKy\"><div><div class=\"\">Writing this review after 10 days of usage.<br/>Pros:<br/>- Solid full metal body<br/>- 10.3' Narrow bezel FHD display, crisp and clear<br/>- Smart dock charger (MicroUSB) +...</div><span class=\"_1BWGvX\"><span>Read full review</span></span></div></div></div><div class=\"row _3n8db9\"><div class=\"row\"><p class=\"_2sc7ZR _2V5EHH\">Thiagarajan Mani</p><svg class=\"_2a1p_T\" height=\"14\" viewbox=\"0 0 12 12\" width=\"14\" xmlns=\"http://www.w3.org/2000/svg\"><g><circle cx=\"6\" cy=\"6\" fill=\"#878787\" r=\"6\"></circle><path d=\"M3 6l2 2 4-4\" fill=\"#878787\" stroke=\"#FFF\" stroke-width=\"1.5\"></path></g></svg><p class=\"_2mcZGG\" id=\"review-4ff3658a-ee36-42ba-af61-f10f7d6c363a\"><span>Certified Buyer</span></p><p class=\"_2sc7ZR\">Jul, 2020</p></div></div></div></div></div><div class=\"_2tzWk4\"><div class=\"_1A_Aux\">Recent Review</div><div class=\"col\"><div class=\"col _2wzgFH _2cVXgz\"><div class=\"row\"><div class=\"_3LWZlK _1rdVr6 _1BLPMq\">1<img class=\"_1wB99o\" src=\"data:image/svg+xml;base64,PHN2ZyB4bWxucz0iaHR0cDovL3d3dy53My5vcmcvMjAwMC9zdmciIHdpZHRoPSIxMyIgaGVpZ2h0PSIxMiI+PHBhdGggZmlsbD0iI0ZGRiIgZD0iTTYuNSA5LjQzOWwtMy42NzQgMi4yMy45NC00LjI2LTMuMjEtMi44ODMgNC4yNTQtLjQwNEw2LjUuMTEybDEuNjkgNC4wMSA0LjI1NC40MDQtMy4yMSAyLjg4Mi45NCA0LjI2eiIvPjwvc3ZnPg==\"/></div><p class=\"_2-N8zT\">Unsatisfactory</p></div><div class=\"row\"><div class=\"t-ZTKy\"><div><div class=\"\">Worst product from the house of Lenovo. Poor battery life, touchscreen performance pathetic.</div><span class=\"_1H-bmy\"><span>Read full review</span></span></div></div></div><div class=\"row _3n8db9\"><div class=\"row\"><p class=\"_2sc7ZR _2V5EHH\">Flipkart Customer</p><svg class=\"_2a1p_T\" height=\"14\" viewbox=\"0 0 12 12\" width=\"14\" xmlns=\"http://www.w3.org/2000/svg\"><g><circle cx=\"6\" cy=\"6\" fill=\"#878787\" r=\"6\"></circle><path d=\"M3 6l2 2 4-4\" fill=\"#878787\" stroke=\"#FFF\" stroke-width=\"1.5\"></path></g></svg><p class=\"_2mcZGG\" id=\"review-e695aa78-001c-44c4-9537-8b705d31b7c5\"><span>Certified Buyer</span></p><p class=\"_2sc7ZR\">2 months ago</p></div></div></div></div></div></div><div class=\"_2nRPpA\"><div class=\"_1Ni40J\"><div class=\"_3hVUcF\"><div class=\"CXW8mj\" style=\"height:150px;width:150px\"><img alt=\"MOTOROLA tab g70 LTE 4 GB RAM 64 GB ROM 11 inch with Wi-Fi+4G Tablet (Modernist Teal)\" class=\"_396cs4\" loading=\"lazy\" src=\"https://rukminim1.flixcart.com/image/300/300/kyag87k0/tablet/4/n/o/g70-lte-moto-original-imagak3huz7jweyz.jpeg?q=90\"/></div></div><div class=\"_1kLt05\"><a href=\"/motorola-tab-g70-lte-4-gb-ram-64-rom-11-inch-wi-fi-4g-tablet-modernist-teal/p/itm248fc0bdcc695?pid=TABG9NNXJHBGU6WJ&amp;marketplace=FLIPKART\" rel=\"noopener noreferrer\" target=\"_blank\"><div class=\"_1W9f5C\"><div>2. MOTOROLA tab g70 LTE 4 GB R...</div></div><div class=\"_3VDxyD\"><div class=\"_3LWZlK\">4.3<img class=\"_1wB99o\" src=\"data:image/svg+xml;base64,PHN2ZyB4bWxucz0iaHR0cDovL3d3dy53My5vcmcvMjAwMC9zdmciIHdpZHRoPSIxMyIgaGVpZ2h0PSIxMiI+PHBhdGggZmlsbD0iI0ZGRiIgZD0iTTYuNSA5LjQzOWwtMy42NzQgMi4yMy45NC00LjI2LTMuMjEtMi44ODMgNC4yNTQtLjQwNEw2LjUuMTEybDEuNjkgNC4wMSA0LjI1NC40MDQtMy4yMSAyLjg4Mi45NCA0LjI2eiIvPjwvc3ZnPg==\"/></div><span class=\"_34hpFu\"><span>4,598 Ratings</span><span><span class=\"_2oY1qB\">&amp;</span><span>544 Reviews</span></span></span></div><div class=\"_2wYYVP\"><div class=\"_25b18c\"><div class=\"_30jeq3 UMT9wN\">₹22,999</div><div class=\"_3Ay6Sb _2FuKQX\"><span>34% off</span></div></div></div></a><ul class=\"_1Sq2Fs\"><li class=\"_2OosNL\">4 GB RAM | 64 GB ROM | Expandable Upto 1 TB</li><li class=\"_2OosNL\">27.94 cm (11 inch) 2K Display</li><li class=\"_2OosNL\">13 MP Primary Camera</li></ul></div></div><div class=\"_2tzWk4\"><div class=\"_1A_Aux\">Most Helpful Review</div><div class=\"col\"><div class=\"col _2wzgFH _2cVXgz\"><div class=\"row\"><div class=\"_3LWZlK _1BLPMq\">4<img class=\"_1wB99o\" src=\"data:image/svg+xml;base64,PHN2ZyB4bWxucz0iaHR0cDovL3d3dy53My5vcmcvMjAwMC9zdmciIHdpZHRoPSIxMyIgaGVpZ2h0PSIxMiI+PHBhdGggZmlsbD0iI0ZGRiIgZD0iTTYuNSA5LjQzOWwtMy42NzQgMi4yMy45NC00LjI2LTMuMjEtMi44ODMgNC4yNTQtLjQwNEw2LjUuMTEybDEuNjkgNC4wMSA0LjI1NC40MDQtMy4yMSAyLjg4Mi45NCA0LjI2eiIvPjwvc3ZnPg==\"/></div><p class=\"_2-N8zT\">Worth the money</p></div><div class=\"row\"><div class=\"t-ZTKy\"><div><div class=\"\">I would like to give few pointers for this tablet. <br/><br/>Design is awesome <br/>Display is very good( If you have good quality videos) <br/>Processor is good at this Pri...</div><span class=\"_1BWGvX\"><span>Read full review</span></span></div></div></div><div class=\"row _3n8db9\"><div class=\"row\"><p class=\"_2sc7ZR _2V5EHH\">Arun Shetty S</p><svg class=\"_2a1p_T\" height=\"14\" viewbox=\"0 0 12 12\" width=\"14\" xmlns=\"http://www.w3.org/2000/svg\"><g><circle cx=\"6\" cy=\"6\" fill=\"#878787\" r=\"6\"></circle><path d=\"M3 6l2 2 4-4\" fill=\"#878787\" stroke=\"#FFF\" stroke-width=\"1.5\"></path></g></svg><p class=\"_2mcZGG\" id=\"review-de7536ca-f09a-44ef-8204-63fda64583a3\"><span>Certified Buyer</span></p><p class=\"_2sc7ZR\">Feb, 2022</p></div></div></div></div></div><div class=\"_2tzWk4\"><div class=\"_1A_Aux\">Recent Review</div><div class=\"col\"><div class=\"col _2wzgFH _2cVXgz\"><div class=\"row\"><div class=\"_3LWZlK _1rdVr6 _1BLPMq\">1<img class=\"_1wB99o\" src=\"data:image/svg+xml;base64,PHN2ZyB4bWxucz0iaHR0cDovL3d3dy53My5vcmcvMjAwMC9zdmciIHdpZHRoPSIxMyIgaGVpZ2h0PSIxMiI+PHBhdGggZmlsbD0iI0ZGRiIgZD0iTTYuNSA5LjQzOWwtMy42NzQgMi4yMy45NC00LjI2LTMuMjEtMi44ODMgNC4yNTQtLjQwNEw2LjUuMTEybDEuNjkgNC4wMSA0LjI1NC40MDQtMy4yMSAyLjg4Mi45NCA0LjI2eiIvPjwvc3ZnPg==\"/></div><p class=\"_2-N8zT\">Worthless</p></div><div class=\"row\"><div class=\"t-ZTKy\"><div><div class=\"\">I would have rated below one ⭐</div><span class=\"_1H-bmy\"><span>Read full review</span></span></div></div></div><div class=\"row _3n8db9\"><div class=\"row\"><p class=\"_2sc7ZR _2V5EHH\">Chandan Kumar</p><svg class=\"_2a1p_T\" height=\"14\" viewbox=\"0 0 12 12\" width=\"14\" xmlns=\"http://www.w3.org/2000/svg\"><g><circle cx=\"6\" cy=\"6\" fill=\"#878787\" r=\"6\"></circle><path d=\"M3 6l2 2 4-4\" fill=\"#878787\" stroke=\"#FFF\" stroke-width=\"1.5\"></path></g></svg><p class=\"_2mcZGG\" id=\"review-70ec3a79-ca00-4f72-af66-2700b1a3822c\"><span>Certified Buyer</span></p><p class=\"_2sc7ZR\">2 days ago</p></div></div></div></div></div></div><div class=\"_2nRPpA\"><div class=\"_1Ni40J\"><div class=\"_3hVUcF\"><div class=\"CXW8mj\" style=\"height:150px;width:150px\"><img alt=\"Lenovo M8 HD (2nd Gen) 3 GB RAM 32 GB ROM 8 inches with Wi-Fi+4G Tablet (Iron Grey)\" class=\"_396cs4\" loading=\"lazy\" src=\"https://rukminim1.flixcart.com/image/300/300/knqd3m80/tablet/f/r/l/za5h0153in-lenovo-original-imag2ckpkhnyuwzk.jpeg?q=90\"/></div></div><div class=\"_1kLt05\"><a href=\"/lenovo-m8-hd-2nd-gen-3-gb-ram-32-rom-8-inches-wi-fi-4g-tablet-iron-grey/p/itmb673559cb56fa?pid=TABGFJZMKJGZTRJJ&amp;marketplace=FLIPKART\" rel=\"noopener noreferrer\" target=\"_blank\"><div class=\"_1W9f5C\"><div>3. Lenovo M8 HD (2nd Gen) 3 GB...</div></div><div class=\"_3VDxyD\"><div class=\"_3LWZlK\">4.1<img class=\"_1wB99o\" src=\"data:image/svg+xml;base64,PHN2ZyB4bWxucz0iaHR0cDovL3d3dy53My5vcmcvMjAwMC9zdmciIHdpZHRoPSIxMyIgaGVpZ2h0PSIxMiI+PHBhdGggZmlsbD0iI0ZGRiIgZD0iTTYuNSA5LjQzOWwtMy42NzQgMi4yMy45NC00LjI2LTMuMjEtMi44ODMgNC4yNTQtLjQwNEw2LjUuMTEybDEuNjkgNC4wMSA0LjI1NC40MDQtMy4yMSAyLjg4Mi45NCA0LjI2eiIvPjwvc3ZnPg==\"/></div><span class=\"_34hpFu\"><span>3,361 Ratings</span><span><span class=\"_2oY1qB\">&amp;</span><span>262 Reviews</span></span></span></div><div class=\"_2wYYVP\"><div class=\"_25b18c\"><div class=\"_30jeq3 UMT9wN\">₹11,363</div><div class=\"_3Ay6Sb _2FuKQX\"><span>36% off</span></div></div></div></a><ul class=\"_1Sq2Fs\"><li class=\"_2OosNL\">3 GB RAM | 32 GB ROM | Expandable Upto 128 GB</li><li class=\"_2OosNL\">20.32 cm (8 inches) HD Display</li><li class=\"_2OosNL\">8 MP Primary Camera | 2 MP Front</li></ul></div></div><div class=\"_2tzWk4\"><div class=\"_1A_Aux\">Most Helpful Review</div><div class=\"col\"><div class=\"col _2wzgFH _2cVXgz\"><div class=\"row\"><div class=\"_3LWZlK _1BLPMq\">5<img class=\"_1wB99o\" src=\"data:image/svg+xml;base64,PHN2ZyB4bWxucz0iaHR0cDovL3d3dy53My5vcmcvMjAwMC9zdmciIHdpZHRoPSIxMyIgaGVpZ2h0PSIxMiI+PHBhdGggZmlsbD0iI0ZGRiIgZD0iTTYuNSA5LjQzOWwtMy42NzQgMi4yMy45NC00LjI2LTMuMjEtMi44ODMgNC4yNTQtLjQwNEw2LjUuMTEybDEuNjkgNC4wMSA0LjI1NC40MDQtMy4yMSAyLjg4Mi45NCA0LjI2eiIvPjwvc3ZnPg==\"/></div><p class=\"_2-N8zT\">Great product</p></div><div class=\"row\"><div class=\"t-ZTKy\"><div><div class=\"\">Awesome tablet if you are buying for online classes then just go for it, i have no regrets about buying this tablet except that the camera is not good, i am ...</div><span class=\"_1BWGvX\"><span>Read full review</span></span></div></div></div><div class=\"row _3n8db9\"><div class=\"row\"><p class=\"_2sc7ZR _2V5EHH\">Joseph George</p><svg class=\"_2a1p_T\" height=\"14\" viewbox=\"0 0 12 12\" width=\"14\" xmlns=\"http://www.w3.org/2000/svg\"><g><circle cx=\"6\" cy=\"6\" fill=\"#878787\" r=\"6\"></circle><path d=\"M3 6l2 2 4-4\" fill=\"#878787\" stroke=\"#FFF\" stroke-width=\"1.5\"></path></g></svg><p class=\"_2mcZGG\" id=\"review-6ba222b2-dddc-4d5a-8dc5-55bff7029c43\"><span>Certified Buyer</span></p><p class=\"_2sc7ZR\">Dec, 2021</p></div></div></div></div></div><div class=\"_2tzWk4\"><div class=\"_1A_Aux\">Recent Review</div><div class=\"col\"><div class=\"col _2wzgFH _2cVXgz\"><div class=\"row\"><div class=\"_3LWZlK _1BLPMq\">5<img class=\"_1wB99o\" src=\"data:image/svg+xml;base64,PHN2ZyB4bWxucz0iaHR0cDovL3d3dy53My5vcmcvMjAwMC9zdmciIHdpZHRoPSIxMyIgaGVpZ2h0PSIxMiI+PHBhdGggZmlsbD0iI0ZGRiIgZD0iTTYuNSA5LjQzOWwtMy42NzQgMi4yMy45NC00LjI2LTMuMjEtMi44ODMgNC4yNTQtLjQwNEw2LjUuMTEybDEuNjkgNC4wMSA0LjI1NC40MDQtMy4yMSAyLjg4Mi45NCA0LjI2eiIvPjwvc3ZnPg==\"/></div><p class=\"_2-N8zT\">Mind-blowing purchase</p></div><div class=\"row\"><div class=\"t-ZTKy\"><div><div class=\"\">Execellent and nice for online classes</div><span class=\"_1H-bmy\"><span>Read full review</span></span></div></div></div><div class=\"row _3n8db9\"><div class=\"row\"><p class=\"_2sc7ZR _2V5EHH\">Maneesh  Vishwakarma </p><svg class=\"_2a1p_T\" height=\"14\" viewbox=\"0 0 12 12\" width=\"14\" xmlns=\"http://www.w3.org/2000/svg\"><g><circle cx=\"6\" cy=\"6\" fill=\"#878787\" r=\"6\"></circle><path d=\"M3 6l2 2 4-4\" fill=\"#878787\" stroke=\"#FFF\" stroke-width=\"1.5\"></path></g></svg><p class=\"_2mcZGG\" id=\"review-ff42e82b-f830-40e1-b5d5-5e5f76d7a51c\"><span>Certified Buyer</span></p><p class=\"_2sc7ZR\">1 month ago</p></div></div></div></div></div></div><div class=\"_2nRPpA\"><div class=\"_1Ni40J\"><div class=\"_3hVUcF\"><div class=\"CXW8mj\" style=\"height:150px;width:150px\"><img alt=\"realme Pad Mini 3 GB RAM 32 GB ROM 8.7 inch with Wi-Fi+4G Tablet (Grey)\" class=\"_396cs4\" loading=\"lazy\" src=\"https://rukminim1.flixcart.com/image/300/300/l1v1uvk0/tablet/9/c/s/6650034-realme-original-imagdc5ac3y7xgxh.jpeg?q=90\"/></div></div><div class=\"_1kLt05\"><a href=\"/realme-pad-mini-3-gb-ram-32-rom-8-7-inch-wi-fi-4g-tablet-grey/p/itm0796030d43c4a?pid=TABGD7GFFWJHHW8N&amp;marketplace=FLIPKART\" rel=\"noopener noreferrer\" target=\"_blank\"><div class=\"_1W9f5C\"><div>4. realme Pad Mini 3 GB RAM 32...</div></div><div class=\"_3VDxyD\"><div class=\"_3LWZlK\">4.3<img class=\"_1wB99o\" src=\"data:image/svg+xml;base64,PHN2ZyB4bWxucz0iaHR0cDovL3d3dy53My5vcmcvMjAwMC9zdmciIHdpZHRoPSIxMyIgaGVpZ2h0PSIxMiI+PHBhdGggZmlsbD0iI0ZGRiIgZD0iTTYuNSA5LjQzOWwtMy42NzQgMi4yMy45NC00LjI2LTMuMjEtMi44ODMgNC4yNTQtLjQwNEw2LjUuMTEybDEuNjkgNC4wMSA0LjI1NC40MDQtMy4yMSAyLjg4Mi45NCA0LjI2eiIvPjwvc3ZnPg==\"/></div><span class=\"_34hpFu\"><span>8,736 Ratings</span><span><span class=\"_2oY1qB\">&amp;</span><span>799 Reviews</span></span></span></div><div class=\"_2wYYVP\"><div class=\"_25b18c\"><div class=\"_30jeq3 UMT9wN\">₹12,999</div><div class=\"_3Ay6Sb _2FuKQX\"><span>40% off</span></div></div></div></a><ul class=\"_1Sq2Fs\"><li class=\"_2OosNL\">18W Fast Charging | Battery: 6400 mAH</li><li class=\"_2OosNL\">3 GB RAM | 32 GB ROM | Expandable Upto 1 TB</li><li class=\"_2OosNL\">22.1 cm (8.7 inch) HD Display</li></ul></div></div><div class=\"_2tzWk4\"><div class=\"_1A_Aux\">Most Helpful Review</div><div class=\"col\"><div class=\"col _2wzgFH _2cVXgz\"><div class=\"row\"><div class=\"_3LWZlK _1BLPMq\">5<img class=\"_1wB99o\" src=\"data:image/svg+xml;base64,PHN2ZyB4bWxucz0iaHR0cDovL3d3dy53My5vcmcvMjAwMC9zdmciIHdpZHRoPSIxMyIgaGVpZ2h0PSIxMiI+PHBhdGggZmlsbD0iI0ZGRiIgZD0iTTYuNSA5LjQzOWwtMy42NzQgMi4yMy45NC00LjI2LTMuMjEtMi44ODMgNC4yNTQtLjQwNEw2LjUuMTEybDEuNjkgNC4wMSA0LjI1NC40MDQtMy4yMSAyLjg4Mi45NCA0LjI2eiIvPjwvc3ZnPg==\"/></div><p class=\"_2-N8zT\">Must buy!</p></div><div class=\"row\"><div class=\"t-ZTKy\"><div><div class=\"\">I am Fully satisfied with order purchased on Flipkart of Realme Tab mini, Good Quality product &amp; Timely Received the product on time. Value money &amp; Good Expe...</div><span class=\"_1BWGvX\"><span>Read full review</span></span></div></div></div><div class=\"row _3n8db9\"><div class=\"row\"><p class=\"_2sc7ZR _2V5EHH\">Mehul Rana</p><svg class=\"_2a1p_T\" height=\"14\" viewbox=\"0 0 12 12\" width=\"14\" xmlns=\"http://www.w3.org/2000/svg\"><g><circle cx=\"6\" cy=\"6\" fill=\"#878787\" r=\"6\"></circle><path d=\"M3 6l2 2 4-4\" fill=\"#878787\" stroke=\"#FFF\" stroke-width=\"1.5\"></path></g></svg><p class=\"_2mcZGG\" id=\"review-bbed2e58-7e09-4eda-9cce-b72fe79be37d\"><span>Certified Buyer</span></p><p class=\"_2sc7ZR\">9 months ago</p></div></div></div></div></div><div class=\"_2tzWk4\"><div class=\"_1A_Aux\">Recent Review</div><div class=\"col\"><div class=\"col _2wzgFH _2cVXgz\"><div class=\"row\"><div class=\"_3LWZlK _1BLPMq\">5<img class=\"_1wB99o\" src=\"data:image/svg+xml;base64,PHN2ZyB4bWxucz0iaHR0cDovL3d3dy53My5vcmcvMjAwMC9zdmciIHdpZHRoPSIxMyIgaGVpZ2h0PSIxMiI+PHBhdGggZmlsbD0iI0ZGRiIgZD0iTTYuNSA5LjQzOWwtMy42NzQgMi4yMy45NC00LjI2LTMuMjEtMi44ODMgNC4yNTQtLjQwNEw2LjUuMTEybDEuNjkgNC4wMSA0LjI1NC40MDQtMy4yMSAyLjg4Mi45NCA0LjI2eiIvPjwvc3ZnPg==\"/></div><p class=\"_2-N8zT\">Mind-blowing purchase</p></div><div class=\"row\"><div class=\"t-ZTKy\"><div><div class=\"\">Best valuable product in this price range having good performance.</div><span class=\"_1H-bmy\"><span>Read full review</span></span></div></div></div><div class=\"row _3n8db9\"><div class=\"row\"><p class=\"_2sc7ZR _2V5EHH\">Ganesh Sutar</p><svg class=\"_2a1p_T\" height=\"14\" viewbox=\"0 0 12 12\" width=\"14\" xmlns=\"http://www.w3.org/2000/svg\"><g><circle cx=\"6\" cy=\"6\" fill=\"#878787\" r=\"6\"></circle><path d=\"M3 6l2 2 4-4\" fill=\"#878787\" stroke=\"#FFF\" stroke-width=\"1.5\"></path></g></svg><p class=\"_2mcZGG\" id=\"review-8dc98cb6-cde2-42ed-93b0-9f8e9541fa99\"><span>Certified Buyer</span></p><p class=\"_2sc7ZR\">2 days ago</p></div></div></div></div></div></div><div class=\"_2nRPpA\"><div class=\"_1Ni40J\"><div class=\"_3hVUcF\"><div class=\"CXW8mj\" style=\"height:150px;width:150px\"><img alt=\"Lenovo Tab M8 (2nd Gen) HD 2 GB RAM 32 GB ROM 8 inch with Wi-Fi+4G Tablet (Iron Grey)\" class=\"_396cs4\" loading=\"lazy\" src=\"https://rukminim1.flixcart.com/image/300/300/k6qsn0w0/tablet/3/q/z/lenovo-za5g0047in-original-imafp4w7qvpnprv5.jpeg?q=90\"/></div></div><div class=\"_1kLt05\"><a href=\"/lenovo-tab-m8-2nd-gen-hd-2-gb-ram-32-rom-8-inch-wi-fi-4g-tablet-iron-grey/p/itm8371cfead66a5?pid=TABFT8NMJZBQQZXD&amp;marketplace=FLIPKART\" rel=\"noopener noreferrer\" target=\"_blank\"><div class=\"_1W9f5C\"><div>5. Lenovo Tab M8 (2nd Gen) HD ...</div></div><div class=\"_3VDxyD\"><div class=\"_3LWZlK\">4.2<img class=\"_1wB99o\" src=\"data:image/svg+xml;base64,PHN2ZyB4bWxucz0iaHR0cDovL3d3dy53My5vcmcvMjAwMC9zdmciIHdpZHRoPSIxMyIgaGVpZ2h0PSIxMiI+PHBhdGggZmlsbD0iI0ZGRiIgZD0iTTYuNSA5LjQzOWwtMy42NzQgMi4yMy45NC00LjI2LTMuMjEtMi44ODMgNC4yNTQtLjQwNEw2LjUuMTEybDEuNjkgNC4wMSA0LjI1NC40MDQtMy4yMSAyLjg4Mi45NCA0LjI2eiIvPjwvc3ZnPg==\"/></div><span class=\"_34hpFu\"><span>6,835 Ratings</span><span><span class=\"_2oY1qB\">&amp;</span><span>571 Reviews</span></span></span></div><div class=\"_2wYYVP\"><div class=\"_25b18c\"><div class=\"_30jeq3 UMT9wN\">₹10,000</div><div class=\"_3Ay6Sb _2FuKQX\"><span>37% off</span></div></div></div></a><ul class=\"_1Sq2Fs\"><li class=\"_2OosNL\">2 GB RAM | 32 GB ROM</li><li class=\"_2OosNL\">20.32 cm (8 inch) HD Display</li><li class=\"_2OosNL\">8 MP Primary Camera | 2 MP Front</li></ul></div></div><div class=\"_2tzWk4\"><div class=\"_1A_Aux\">Most Helpful Review</div><div class=\"col\"><div class=\"col _2wzgFH _2cVXgz\"><div class=\"row\"><div class=\"_3LWZlK _1BLPMq\">5<img class=\"_1wB99o\" src=\"data:image/svg+xml;base64,PHN2ZyB4bWxucz0iaHR0cDovL3d3dy53My5vcmcvMjAwMC9zdmciIHdpZHRoPSIxMyIgaGVpZ2h0PSIxMiI+PHBhdGggZmlsbD0iI0ZGRiIgZD0iTTYuNSA5LjQzOWwtMy42NzQgMi4yMy45NC00LjI2LTMuMjEtMi44ODMgNC4yNTQtLjQwNEw2LjUuMTEybDEuNjkgNC4wMSA0LjI1NC40MDQtMy4yMSAyLjg4Mi45NCA0LjI2eiIvPjwvc3ZnPg==\"/></div><p class=\"_2-N8zT\">Just wow!</p></div><div class=\"row\"><div class=\"t-ZTKy\"><div><div class=\"\">Good screen, nice display, very useful for lectures, class room teaching, good for watching Netflix veyc, and playing games</div><span class=\"_1H-bmy\"><span>Read full review</span></span></div></div></div><div class=\"row _3n8db9\"><div class=\"row\"><p class=\"_2sc7ZR _2V5EHH\">Girisha Sewak</p><svg class=\"_2a1p_T\" height=\"14\" viewbox=\"0 0 12 12\" width=\"14\" xmlns=\"http://www.w3.org/2000/svg\"><g><circle cx=\"6\" cy=\"6\" fill=\"#878787\" r=\"6\"></circle><path d=\"M3 6l2 2 4-4\" fill=\"#878787\" stroke=\"#FFF\" stroke-width=\"1.5\"></path></g></svg><p class=\"_2mcZGG\" id=\"review-80cda914-46b8-4c1b-9bde-8354d1ce5a36\"><span>Certified Buyer</span></p><p class=\"_2sc7ZR\">Apr, 2021</p></div></div></div></div></div><div class=\"_2tzWk4\"><div class=\"_1A_Aux\">Recent Review</div><div class=\"col\"><div class=\"col _2wzgFH _2cVXgz\"><div class=\"row\"><div class=\"_3LWZlK _1BLPMq\">5<img class=\"_1wB99o\" src=\"data:image/svg+xml;base64,PHN2ZyB4bWxucz0iaHR0cDovL3d3dy53My5vcmcvMjAwMC9zdmciIHdpZHRoPSIxMyIgaGVpZ2h0PSIxMiI+PHBhdGggZmlsbD0iI0ZGRiIgZD0iTTYuNSA5LjQzOWwtMy42NzQgMi4yMy45NC00LjI2LTMuMjEtMi44ODMgNC4yNTQtLjQwNEw2LjUuMTEybDEuNjkgNC4wMSA0LjI1NC40MDQtMy4yMSAyLjg4Mi45NCA0LjI2eiIvPjwvc3ZnPg==\"/></div><p class=\"_2-N8zT\">Brilliant</p></div><div class=\"row\"><div class=\"t-ZTKy\"><div><div class=\"\">Tab is not so fast but good in this prise . I am satisfied</div><span class=\"_1H-bmy\"><span>Read full review</span></span></div></div></div><div class=\"row _3n8db9\"><div class=\"row\"><p class=\"_2sc7ZR _2V5EHH\">Flipkart Customer</p><svg class=\"_2a1p_T\" height=\"14\" viewbox=\"0 0 12 12\" width=\"14\" xmlns=\"http://www.w3.org/2000/svg\"><g><circle cx=\"6\" cy=\"6\" fill=\"#878787\" r=\"6\"></circle><path d=\"M3 6l2 2 4-4\" fill=\"#878787\" stroke=\"#FFF\" stroke-width=\"1.5\"></path></g></svg><p class=\"_2mcZGG\" id=\"review-6f272d21-fd2f-463d-a0d3-819d5cd94516\"><span>Certified Buyer</span></p><p class=\"_2sc7ZR\">4 months ago</p></div></div></div></div></div></div></div></div>\n",
      "'NoneType' object has no attribute 'div' <div class=\"_1AtVbE col-12-12\"></div>\n"
     ]
    }
   ],
   "source": [
    "FLIPKART_URL=\"https://www.flipkart.com/search?q=\"\n",
    "search_url=FLIPKART_URL+\"tablet\"\n",
    "data_html=bs(urlopen(search_url).read(),'html.parser')\n",
    "data_box=data_html.find_all(\"div\",{\"class\":\"_1AtVbE col-12-12\"})\n",
    "link_list=[]\n",
    "for x in data_box:\n",
    "    try:\n",
    "        data_link=x.div.div.div.a[\"href\"]\n",
    "        link_list.append(FLIPKART_URL+data_link)\n",
    "    except Exception as e:\n",
    "        print(e,x)\n",
    "\n"
   ]
  },
  {
   "cell_type": "code",
   "execution_count": 3,
   "metadata": {},
   "outputs": [],
   "source": [
    "#for x in link_list:\n",
    "product_html=bs(urlopen(link_list[1]).read(),'html.parser')\n",
    "product_box=product_html.find_all(\"div\",{\"class\":\"aMaAEs\"})"
   ]
  },
  {
   "cell_type": "code",
   "execution_count": 15,
   "metadata": {},
   "outputs": [
    {
     "name": "stdout",
     "output_type": "stream",
     "text": [
      "SAMSUNG Galaxy Tab A8 3 GB RAM 32 GB ROM 10.5 inch with Wi-Fi Only Tablet (Gray) \n",
      "\n"
     ]
    }
   ],
   "source": [
    "# NAME\n",
    "try:\n",
    "    print((product_box[0].div.h1).text,\"\\n\")\n",
    "except Exception as e:\n",
    "    print(e)\n"
   ]
  },
  {
   "cell_type": "code",
   "execution_count": 5,
   "metadata": {},
   "outputs": [
    {
     "data": {
      "text/plain": [
       "1"
      ]
     },
     "execution_count": 5,
     "metadata": {},
     "output_type": "execute_result"
    }
   ],
   "source": [
    "len(product_box)"
   ]
  },
  {
   "cell_type": "code",
   "execution_count": 6,
   "metadata": {},
   "outputs": [
    {
     "name": "stdout",
     "output_type": "stream",
     "text": [
      "5\n",
      "5\n",
      "5\n",
      "5\n",
      "4\n",
      "5\n",
      "5\n",
      "5\n",
      "5\n",
      "5\n"
     ]
    }
   ],
   "source": [
    "# Rating\n",
    "\n",
    "product_rate=product_html.find_all(\"div\",{\"class\":\"_3LWZlK _1BLPMq\"})\n",
    "for x in product_rate:\n",
    "    try:\n",
    "        print(x.text)\n",
    "    except Exception as e:\n",
    "        print(e)"
   ]
  },
  {
   "cell_type": "code",
   "execution_count": 7,
   "metadata": {},
   "outputs": [
    {
     "name": "stdout",
     "output_type": "stream",
     "text": [
      "Awesome\n",
      "Awesome\n",
      "Awesome\n",
      "Must buy!\n",
      "Wonderful\n",
      "Perfect product!\n",
      "Must buy!\n",
      "Fabulous!\n",
      "Awesome\n",
      "Awesome\n"
     ]
    }
   ],
   "source": [
    "# Heading\n",
    "product_Heading=product_html.find_all(\"p\",{\"class\":\"_2-N8zT\"})\n",
    "for x in product_Heading:\n",
    "    try:\n",
    "        print(x.text)\n",
    "    except Exception as e:\n",
    "        print(e)\n"
   ]
  },
  {
   "cell_type": "code",
   "execution_count": 8,
   "metadata": {},
   "outputs": [
    {
     "name": "stdout",
     "output_type": "stream",
     "text": [
      "Product is just awesome Touch Response is good Samsung Galaxy A8 has its Samsung Notes app which is very creative and effective for teaching purpose.  It's media sound is very good but in app it is not as louder as media.\n",
      "Processor is decent display amazing but camera should be more good it's only suitable for documentation else it's just average\n",
      "In this price point we get best deal from samsung and we know that already samsung displays are super cool. In hand feel u feel like u carry a premium tab\n",
      "One of the budgetary Tab.Screen is very smooth to use it.Battery is also working fine.Font camera not much as per expectationsBack camera okay to good but waoo type.Performance very cool 😎\n",
      "Truly amazingEverything works great even it's 3gb ram 32gb storageGot it very affordable priceThe only drawback is it's comes with TFT DisplayColour accurate is bit of outdate else everything is great...Thank you FLIPKARTkeep doing this.\n",
      "Excellent value for money. Got it for just Rs. 8099 in  Oct 2022 Sale. 3 GB variant is sufficient for my requirement to watch videos and read comics. Performance and Display is good. Sound is very loud and clear with stereo seperation, it has 4 speakers. Camera is below average but it doesnt matter as I don't use the camera on this...\n",
      "Got it Tab for 8020According to me it's worth more than thisBest decision Best for study and entertainment purposeDon't fall for other brand  pads available if you really want to experience a good ui and featuresRealme pad is nothing in front of thisIts great when have a samsung smartphone as well ecosystem is great\n",
      "The complete tab experience, with quality software and hardware. This budget tab has the optimized software which delivers a smooth and rich performance. I was looking for a budget tab and planning to buy some other brand, but I visited an electronic shop and used it. After that I bound to the decision of buying the same. And when I found best offer I ordered.\n",
      "One of the best product purchase online from flipcart on sell. U can not imagine such a good product with brand like samsung offer us very cost effective and affordable price. I enjoy the whole journey to buy product in sell on flipcart. Great enjoying from flipcart\n",
      "*The Name is' SAMSUNG GALAXY A8'! *This Larger TABBY'! Cost wise' - Too Much High!*&This TABBY®! Runs On OS- Android v11.-Thts very Modern Speedy! Speedy!-Like a Spider®🕸®.*&The Display®! Wow! Super HD® Display®!*Sound Quality- I liked & You will Too like!-Crystal Clearer Sound®!*Battery 🔋 - 7040mah. As Name wise as  Big as it do in A practically Handy too.*ETC....\n"
     ]
    }
   ],
   "source": [
    "# Comment\n",
    "product_comment=product_html.find_all(\"div\",{\"class\":\"t-ZTKy\"})\n",
    "# list(map(print(x.div.div.text),product_comment))\n",
    "for x in product_comment:\n",
    "    try:\n",
    "        print(x.div.div.text)\n",
    "    except Exception as e:\n",
    "        print(e)"
   ]
  },
  {
   "cell_type": "code",
   "execution_count": 9,
   "metadata": {},
   "outputs": [
    {
     "name": "stdout",
     "output_type": "stream",
     "text": [
      "Pankaj Rakesh\n",
      "Ali Raza\n",
      "shan ali\n",
      "Flipkart Customer\n",
      "Flipkart Customer\n",
      "amey hegde\n",
      "Flipkart Customer\n",
      "Nandlal\n",
      "Upadhyay Kalpesh\n",
      "DHANANJAY ROY DRPASCD ROY\n"
     ]
    }
   ],
   "source": [
    "#name\n",
    "product_comment=product_html.find_all(\"p\",{\"class\":\"_2sc7ZR _2V5EHH\"})\n",
    "# list(map(print(x.div.div.text),product_comment))\n",
    "for x in product_comment:\n",
    "    try:\n",
    "        print(x.text)\n",
    "    except Exception as e:\n",
    "        print(e)"
   ]
  },
  {
   "cell_type": "code",
   "execution_count": 10,
   "metadata": {},
   "outputs": [
    {
     "data": {
      "text/plain": [
       "[<p class=\"_2sc7ZR _2V5EHH\">Pankaj Rakesh</p>,\n",
       " <p class=\"_2sc7ZR _2V5EHH\">Ali Raza</p>,\n",
       " <p class=\"_2sc7ZR _2V5EHH\">shan ali</p>,\n",
       " <p class=\"_2sc7ZR _2V5EHH\">Flipkart Customer</p>,\n",
       " <p class=\"_2sc7ZR _2V5EHH\">Flipkart Customer</p>,\n",
       " <p class=\"_2sc7ZR _2V5EHH\">amey hegde</p>,\n",
       " <p class=\"_2sc7ZR _2V5EHH\">Flipkart Customer</p>,\n",
       " <p class=\"_2sc7ZR _2V5EHH\">Nandlal</p>,\n",
       " <p class=\"_2sc7ZR _2V5EHH\">Upadhyay Kalpesh</p>,\n",
       " <p class=\"_2sc7ZR _2V5EHH\">DHANANJAY ROY DRPASCD ROY</p>]"
      ]
     },
     "execution_count": 10,
     "metadata": {},
     "output_type": "execute_result"
    }
   ],
   "source": [
    "product_comment"
   ]
  },
  {
   "cell_type": "code",
   "execution_count": 11,
   "metadata": {},
   "outputs": [
    {
     "name": "stdout",
     "output_type": "stream",
     "text": [
      "Pankaj Rakesh\n",
      "Awesome\n",
      "Product is just awesome Touch Response is good Samsung Galaxy A8 has its Samsung Notes app which is very creative and effective for teaching purpose.  It's media sound is very good but in app it is not as louder as media.\n",
      "5\n",
      "Ali Raza\n",
      "Awesome\n",
      "Processor is decent display amazing but camera should be more good it's only suitable for documentation else it's just average\n",
      "5\n",
      "shan ali\n",
      "Awesome\n",
      "In this price point we get best deal from samsung and we know that already samsung displays are super cool. In hand feel u feel like u carry a premium tab\n",
      "5\n",
      "Flipkart Customer\n",
      "Must buy!\n",
      "One of the budgetary Tab.Screen is very smooth to use it.Battery is also working fine.Font camera not much as per expectationsBack camera okay to good but waoo type.Performance very cool 😎\n",
      "5\n",
      "Flipkart Customer\n",
      "Wonderful\n",
      "Truly amazingEverything works great even it's 3gb ram 32gb storageGot it very affordable priceThe only drawback is it's comes with TFT DisplayColour accurate is bit of outdate else everything is great...Thank you FLIPKARTkeep doing this.\n",
      "4\n",
      "amey hegde\n",
      "Perfect product!\n",
      "Excellent value for money. Got it for just Rs. 8099 in  Oct 2022 Sale. 3 GB variant is sufficient for my requirement to watch videos and read comics. Performance and Display is good. Sound is very loud and clear with stereo seperation, it has 4 speakers. Camera is below average but it doesnt matter as I don't use the camera on this...\n",
      "5\n",
      "Flipkart Customer\n",
      "Must buy!\n",
      "Got it Tab for 8020According to me it's worth more than thisBest decision Best for study and entertainment purposeDon't fall for other brand  pads available if you really want to experience a good ui and featuresRealme pad is nothing in front of thisIts great when have a samsung smartphone as well ecosystem is great\n",
      "5\n",
      "Nandlal\n",
      "Fabulous!\n",
      "The complete tab experience, with quality software and hardware. This budget tab has the optimized software which delivers a smooth and rich performance. I was looking for a budget tab and planning to buy some other brand, but I visited an electronic shop and used it. After that I bound to the decision of buying the same. And when I found best offer I ordered.\n",
      "5\n",
      "Upadhyay Kalpesh\n",
      "Awesome\n",
      "One of the best product purchase online from flipcart on sell. U can not imagine such a good product with brand like samsung offer us very cost effective and affordable price. I enjoy the whole journey to buy product in sell on flipcart. Great enjoying from flipcart\n",
      "5\n",
      "DHANANJAY ROY DRPASCD ROY\n",
      "Awesome\n",
      "*The Name is' SAMSUNG GALAXY A8'! *This Larger TABBY'! Cost wise' - Too Much High!*&This TABBY®! Runs On OS- Android v11.-Thts very Modern Speedy! Speedy!-Like a Spider®🕸®.*&The Display®! Wow! Super HD® Display®!*Sound Quality- I liked & You will Too like!-Crystal Clearer Sound®!*Battery 🔋 - 7040mah. As Name wise as  Big as it do in A practically Handy too.*ETC....\n",
      "5\n"
     ]
    }
   ],
   "source": [
    "# Rating\n",
    "product_rate=product_html.find_all(\"div\",{\"class\":\"_3LWZlK _1BLPMq\"})\n",
    "# Heading\n",
    "product_Heading=product_html.find_all(\"p\",{\"class\":\"_2-N8zT\"})\n",
    "# Comment\n",
    "product_comment=product_html.find_all(\"div\",{\"class\":\"t-ZTKy\"})\n",
    "#name\n",
    "Reviewer_name=product_html.find_all(\"p\",{\"class\":\"_2sc7ZR _2V5EHH\"})\n",
    "if len(product_rate)==len(product_Heading)==len(product_comment)==len(Reviewer_name):\n",
    "    for x in range(len(product_rate)):\n",
    "        try:\n",
    "            print(Reviewer_name[x].text)\n",
    "            print(product_Heading[x].text)\n",
    "            print(product_comment[x].div.div.text)\n",
    "            print(product_rate[x].text)\n",
    "        except Exception as e:\n",
    "            print(e)\n",
    "else:\n",
    "        print(\"need seprate loops\")"
   ]
  },
  {
   "cell_type": "code",
   "execution_count": null,
   "metadata": {},
   "outputs": [],
   "source": []
  }
 ],
 "metadata": {
  "kernelspec": {
   "display_name": "Python 3",
   "language": "python",
   "name": "python3"
  },
  "language_info": {
   "codemirror_mode": {
    "name": "ipython",
    "version": 3
   },
   "file_extension": ".py",
   "mimetype": "text/x-python",
   "name": "python",
   "nbconvert_exporter": "python",
   "pygments_lexer": "ipython3",
   "version": "3.11.0"
  },
  "orig_nbformat": 4
 },
 "nbformat": 4,
 "nbformat_minor": 2
}

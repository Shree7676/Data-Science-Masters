{
 "cells": [
  {
   "attachments": {},
   "cell_type": "markdown",
   "metadata": {},
   "source": [
    "# Q1"
   ]
  },
  {
   "cell_type": "code",
   "execution_count": 16,
   "metadata": {},
   "outputs": [
    {
     "data": {
      "text/plain": [
       "[1, 3, 5, 7, 9, 11, 13, 15, 17, 19, 21, 23, 25]"
      ]
     },
     "execution_count": 16,
     "metadata": {},
     "output_type": "execute_result"
    }
   ],
   "source": [
    "# def keyword is used to create a function\n",
    "\n",
    "#Method 1\n",
    "def odd_no():\n",
    "    l=[]\n",
    "    for x in range(1,25):\n",
    "        if x%2!=0:\n",
    "            l.append(x)\n",
    "    return l\n",
    "\n",
    "\n",
    "# odd_no()\n",
    "\n",
    "# #Method 2\n",
    "odd_num=lambda: [x for x in range(1,26) if x%2!=0 ]\n",
    "odd_num()\n"
   ]
  },
  {
   "attachments": {},
   "cell_type": "markdown",
   "metadata": {},
   "source": [
    "# Q2"
   ]
  },
  {
   "cell_type": "code",
   "execution_count": 21,
   "metadata": {},
   "outputs": [
    {
     "name": "stdout",
     "output_type": "stream",
     "text": [
      "1\n",
      "2\n",
      "4\n",
      "5\n",
      "8\n",
      "name: John\n",
      "age: 30\n",
      "location: New York\n"
     ]
    }
   ],
   "source": [
    "# *args is used to pass a variable number of non-keyword arguments to a function. It collects all the non-keyword arguments passed to the function and puts them into a tuple.\n",
    "def list_of_num(*args):\n",
    "    for x in args:\n",
    "        print(x)\n",
    "\n",
    "list_of_num(1,2,4,5,8)\n",
    "\n",
    "# **kwargs is used to pass a variable number of keyword arguments to a function. It collects all the keyword arguments passed to the function and puts them into a dictionary.\n",
    "\n",
    "def print_person_info(**kwargs):\n",
    "    for key, value in kwargs.items():\n",
    "        print(key + ': ' + value)\n",
    "\n",
    "print_person_info(name='John', age='30', location='New York')\n"
   ]
  },
  {
   "attachments": {},
   "cell_type": "markdown",
   "metadata": {},
   "source": [
    "# Q3"
   ]
  },
  {
   "cell_type": "code",
   "execution_count": 26,
   "metadata": {},
   "outputs": [
    {
     "name": "stdout",
     "output_type": "stream",
     "text": [
      "2\n",
      "4\n",
      "6\n",
      "8\n",
      "10\n"
     ]
    }
   ],
   "source": [
    "# Iterator is an object that allows you to iterate through a collection of data, such as a list or a dictionary, and retrieve the values one by one. An iterator is an object that implements the iterator protocol, which requires the iterator to have two methods: __iter__() and __next__().\n",
    "\n",
    "\n",
    "lists=[2,4,6,8,10,12,14,16,18,20]\n",
    "my_iter=iter(lists)\n",
    "\n",
    "def iteration():\n",
    "    for x in range(5):\n",
    "        print(next(my_iter))\n",
    "\n",
    "\n",
    "iteration()\n"
   ]
  },
  {
   "attachments": {},
   "cell_type": "markdown",
   "metadata": {},
   "source": [
    "# Q4.  What is a generator function in python? Why yield keyword is used? Give an example of a generator function."
   ]
  },
  {
   "cell_type": "code",
   "execution_count": 30,
   "metadata": {},
   "outputs": [
    {
     "name": "stdout",
     "output_type": "stream",
     "text": [
      "0\n",
      "1\n",
      "1\n",
      "2\n",
      "3\n"
     ]
    }
   ],
   "source": [
    "# Generator function is a special type of function that allows you to generate a sequence of values on-the-fly without creating a list or tuple to store the values. Generator functions use the yield keyword to pause execution and return a value to the caller, and then continue execution from where it left off when the generator is called again.\n",
    "\n",
    "def fib_series(num):\n",
    "    x,y=0,1\n",
    "    for i in range(num):\n",
    "        yield x\n",
    "        x,y=y,x+y\n",
    "\n",
    "for x in fib_series(5):\n",
    "    print(x)"
   ]
  },
  {
   "attachments": {},
   "cell_type": "markdown",
   "metadata": {},
   "source": [
    "# Q5 Create a generator function for prime numbers less than 1000. Use the next() method to print the first 20 prime numbers."
   ]
  },
  {
   "cell_type": "code",
   "execution_count": 37,
   "metadata": {},
   "outputs": [
    {
     "name": "stdout",
     "output_type": "stream",
     "text": [
      "2\n",
      "3\n",
      "5\n",
      "7\n",
      "11\n",
      "13\n",
      "17\n",
      "19\n",
      "23\n",
      "29\n",
      "31\n",
      "37\n",
      "41\n",
      "43\n",
      "47\n",
      "53\n",
      "59\n",
      "61\n",
      "67\n",
      "71\n"
     ]
    }
   ],
   "source": [
    "def Prime():\n",
    "    prime_list=[]\n",
    "    num=2\n",
    "    while num<1000:\n",
    "        for x in prime_list:\n",
    "            if num%x==0:\n",
    "                break\n",
    "        else:\n",
    "            prime_list.append(num)\n",
    "            yield(num)\n",
    "        num+=1\n",
    "\n",
    "\n",
    "a = Prime()\n",
    "for x in range(20):\n",
    "    print(next(a)) # cant call directly next(Prime()) because it will create a new instance if did ..."
   ]
  },
  {
   "cell_type": "markdown",
   "metadata": {},
   "source": [
    "# Q6. Write a python program to print the first 10 Fibonacci numbers using a while loop\n"
   ]
  },
  {
   "cell_type": "code",
   "execution_count": 39,
   "metadata": {},
   "outputs": [
    {
     "data": {
      "text/plain": [
       "[0, 1, 1, 2, 3, 5, 8, 13, 21, 34]"
      ]
     },
     "execution_count": 39,
     "metadata": {},
     "output_type": "execute_result"
    }
   ],
   "source": [
    "fib=[]\n",
    "x,y=0,1\n",
    "while len(fib)<10:\n",
    "    fib.append(x)\n",
    "    x,y=y,x+y\n",
    "\n",
    "fib"
   ]
  },
  {
   "attachments": {},
   "cell_type": "markdown",
   "metadata": {},
   "source": [
    "# Q7. Write a List Comprehension to iterate through the given string: ‘pwskills’. Expected output: ['p', 'w', 's', 'k', 'i', 'l', 'l', 's'] "
   ]
  },
  {
   "cell_type": "code",
   "execution_count": 41,
   "metadata": {},
   "outputs": [
    {
     "name": "stdout",
     "output_type": "stream",
     "text": [
      "['p', 'w', 's', 'k', 'i', 'l', 'l', 's']\n"
     ]
    }
   ],
   "source": [
    "#Method 1\n",
    "list(map(lambda x: x,'pwskills'))\n",
    "\n",
    "#Method 2\n",
    "s = 'pwskills'\n",
    "result = [char for char in s if char in 'pwskils']\n",
    "print(result)\n"
   ]
  },
  {
   "cell_type": "markdown",
   "metadata": {},
   "source": [
    "# Q8. Write a python program to check whether a given number is Palindrome or not using a while loop.\n"
   ]
  },
  {
   "cell_type": "code",
   "execution_count": 57,
   "metadata": {},
   "outputs": [
    {
     "name": "stdout",
     "output_type": "stream",
     "text": [
      "True\n"
     ]
    }
   ],
   "source": [
    "def check_palindrome(num):\n",
    "    original_num = num\n",
    "    ans=0\n",
    "    while num>0:\n",
    "        last_index=num%10\n",
    "        num=num//10\n",
    "        ans=ans*10+last_index\n",
    "\n",
    "    if original_num == ans:\n",
    "        return True\n",
    "    else :\n",
    "        return False\n",
    "\n",
    "\n",
    "\n",
    "print(check_palindrome(1221))\n"
   ]
  },
  {
   "attachments": {},
   "cell_type": "markdown",
   "metadata": {},
   "source": [
    "# Q9 . Write a code to print odd numbers from 1 to 100 using list comprehension. Note:  Use a list comprehension to create a list from 1 to 100 and use another List comprehension to filter out odd numbers"
   ]
  },
  {
   "cell_type": "code",
   "execution_count": 62,
   "metadata": {},
   "outputs": [
    {
     "data": {
      "text/plain": [
       "[1,\n",
       " 3,\n",
       " 5,\n",
       " 7,\n",
       " 9,\n",
       " 11,\n",
       " 13,\n",
       " 15,\n",
       " 17,\n",
       " 19,\n",
       " 21,\n",
       " 23,\n",
       " 25,\n",
       " 27,\n",
       " 29,\n",
       " 31,\n",
       " 33,\n",
       " 35,\n",
       " 37,\n",
       " 39,\n",
       " 41,\n",
       " 43,\n",
       " 45,\n",
       " 47,\n",
       " 49,\n",
       " 51,\n",
       " 53,\n",
       " 55,\n",
       " 57,\n",
       " 59,\n",
       " 61,\n",
       " 63,\n",
       " 65,\n",
       " 67,\n",
       " 69,\n",
       " 71,\n",
       " 73,\n",
       " 75,\n",
       " 77,\n",
       " 79,\n",
       " 81,\n",
       " 83,\n",
       " 85,\n",
       " 87,\n",
       " 89,\n",
       " 91,\n",
       " 93,\n",
       " 95,\n",
       " 97,\n",
       " 99]"
      ]
     },
     "execution_count": 62,
     "metadata": {},
     "output_type": "execute_result"
    }
   ],
   "source": [
    "# Use a list comprehension to create a list from 1 to 100\n",
    "\n",
    "list_ready=[x for x in range(101)]\n",
    "\n",
    "# use another List comprehension to filter out odd numbers.\n",
    "\n",
    "odd_num=[x for x in list_ready if x%2!=0]\n"
   ]
  },
  {
   "cell_type": "code",
   "execution_count": null,
   "metadata": {},
   "outputs": [],
   "source": []
  }
 ],
 "metadata": {
  "kernelspec": {
   "display_name": "Python 3",
   "language": "python",
   "name": "python3"
  },
  "language_info": {
   "codemirror_mode": {
    "name": "ipython",
    "version": 3
   },
   "file_extension": ".py",
   "mimetype": "text/x-python",
   "name": "python",
   "nbconvert_exporter": "python",
   "pygments_lexer": "ipython3",
   "version": "3.11.0"
  },
  "orig_nbformat": 4
 },
 "nbformat": 4,
 "nbformat_minor": 2
}

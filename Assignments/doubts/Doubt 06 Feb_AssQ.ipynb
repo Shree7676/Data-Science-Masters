{
 "cells": [
  {
   "attachments": {},
   "cell_type": "markdown",
   "metadata": {},
   "source": [
    "# Q1. \n",
    "Create a function which will take a list as an argument and return the product of all the numbers after creating a flat list. Use the below-given list as an argument for your function.  \n",
    "list1 = [1,2,3,4, [44,55,66, True], False, (34,56,78,89,34), {1,2,3,3,2,1}, {1:34, \"key2\": [55, 67, 78, 89], 4: (45, 22, 61, 34)}, [56, 'data science'], 'Machine Learning']  \n",
    "Note: you must extract numeric keys and values of the dictionary also."
   ]
  },
  {
   "cell_type": "code",
   "execution_count": 4,
   "metadata": {},
   "outputs": [
    {
     "name": "stdout",
     "output_type": "stream",
     "text": [
      "1\n",
      "2\n",
      "3\n",
      "4\n",
      "[44, 55, 66, True]\n",
      "44\n",
      "55\n",
      "66\n",
      "True\n",
      "[1, 2, 3, 4, 44, 55, 66, True] **************************************************\n",
      "False\n",
      "(34, 56, 78, 89, 34)\n",
      "34\n",
      "56\n",
      "78\n",
      "89\n",
      "34\n",
      "[1, 2, 3, 4, False, 34, 56, 78, 89, 34] **************************************************\n",
      "{1, 2, 3}\n",
      "1\n",
      "2\n",
      "3\n",
      "[1, 2, 3, 4, False, 1, 2, 3] **************************************************\n",
      "{1: 34, 'key2': [55, 67, 78, 89], 4: (45, 22, 61, 34)}\n",
      "1\n",
      "key2\n",
      "4\n",
      "[1, 2, 3, 4, False, 1, 'key2', 4]\n",
      "34\n",
      "[55, 67, 78, 89]\n",
      "55\n",
      "67\n",
      "78\n",
      "89\n",
      "[34, 55, 67, 78, 89] **************************************************\n",
      "(45, 22, 61, 34)\n",
      "45\n",
      "22\n",
      "61\n",
      "34\n",
      "[34, 45, 22, 61, 34] **************************************************\n",
      "[1, 2, 3, 4, False, 34]\n",
      "[56, 'data science']\n",
      "56\n",
      "data science\n",
      "[1, 2, 3, 4, False, 56, 'data science'] **************************************************\n",
      "Machine Learning\n",
      "0\n",
      "1\n",
      "2\n",
      "3\n",
      "4\n",
      "5\n",
      "1\n",
      "2\n",
      "3\n",
      "4\n",
      "[44, 55, 66, True]\n",
      "44\n",
      "55\n",
      "66\n",
      "True\n",
      "[1, 2, 3, 4, 44, 55, 66, True] **************************************************\n",
      "False\n",
      "(34, 56, 78, 89, 34)\n",
      "34\n",
      "56\n",
      "78\n",
      "89\n",
      "34\n",
      "[1, 2, 3, 4, False, 34, 56, 78, 89, 34] **************************************************\n",
      "{1, 2, 3}\n",
      "1\n",
      "2\n",
      "3\n",
      "[1, 2, 3, 4, False, 1, 2, 3] **************************************************\n",
      "{1: 34, 'key2': [55, 67, 78, 89], 4: (45, 22, 61, 34)}\n",
      "1\n",
      "key2\n",
      "4\n",
      "[1, 2, 3, 4, False, 1, 'key2', 4]\n",
      "34\n",
      "[55, 67, 78, 89]\n",
      "55\n",
      "67\n",
      "78\n",
      "89\n",
      "[34, 55, 67, 78, 89] **************************************************\n",
      "(45, 22, 61, 34)\n",
      "45\n",
      "22\n",
      "61\n",
      "34\n",
      "[34, 45, 22, 61, 34] **************************************************\n",
      "[1, 2, 3, 4, False, 34]\n",
      "[56, 'data science']\n",
      "56\n",
      "data science\n",
      "[1, 2, 3, 4, False, 56, 'data science'] **************************************************\n",
      "Machine Learning\n",
      "[1, 2, 3, 4, False, 'Machine Learning']\n"
     ]
    }
   ],
   "source": [
    "list1 = [1, 2, 3, 4, [44, 55, 66, True], False, (34, 56, 78, 89, 34), {1, 2, 3, 3, 2, 1}, {\n",
    "    1: 34, \"key2\": [55, 67, 78, 89], 4: (45, 22, 61, 34)}, [56, 'data science'], 'Machine Learning']\n",
    "\n",
    "def flat_list(arr):\n",
    "    lst=[]\n",
    "    \n",
    "    for x in arr:\n",
    "        print(x)\n",
    "        if type(x) in [tuple,list,set]:\n",
    "            print( lst + flat_list(x),'*'*50)\n",
    "        elif type(x) == dict:\n",
    "            a,b=x.keys(),x.values()\n",
    "            print(lst + flat_list(list(a)))\n",
    "            print(lst + flat_list(list(b)))\n",
    "        else:\n",
    "            lst.append(x)\n",
    "    return lst \n",
    "            \n",
    "\n",
    "\n",
    " \n",
    "a=flat_list(list1)\n",
    "for x in range(len(a)):\n",
    "    print(x)\n",
    "print(flat_list(list1))\n",
    "\n",
    "    "
   ]
  },
  {
   "cell_type": "code",
   "execution_count": 1,
   "metadata": {},
   "outputs": [
    {
     "data": {
      "text/plain": [
       "[1, 2, 3, 4, 5, 6]"
      ]
     },
     "execution_count": 1,
     "metadata": {},
     "output_type": "execute_result"
    }
   ],
   "source": [
    "[1, 2, 3, 4, [44, 55, 66, True], False, (34, 56, 78, 89, 34), {1, 2, 3, 3, 2, 1}, {\n",
    "    1: 34, \"key2\": [55, 67, 78, 89], 4: (45, 22, 61, 34)}, [56, 'data science'], 'Machine Learning']\n"
   ]
  },
  {
   "cell_type": "code",
   "execution_count": 11,
   "metadata": {},
   "outputs": [
    {
     "name": "stdout",
     "output_type": "stream",
     "text": [
      "0\n"
     ]
    }
   ],
   "source": [
    "list1 = [1, 2, 3, 4, [44, 55, 66, True], False, (34, 56, 78, 89, 34), {1, 2, 3, 3, 2, 1}, {\n",
    "    1: 34, \"key2\": [55, 67, 78, 89], 4: (45, 22, 61, 34)}, [56, 'data science'], 'Machine Learning']\n",
    "\n",
    "def get_product(lst):\n",
    "    result = 1\n",
    "    for item in lst:\n",
    "        if isinstance(item, (list, tuple, set)):\n",
    "            result *= get_product(list(item))\n",
    "        elif isinstance(item, dict):\n",
    "            result *= get_product(list(item.keys()))\n",
    "            result *= get_product(list(item.values()))\n",
    "        elif isinstance(item, (int, float)):\n",
    "            result *= item\n",
    "    return result\n",
    "\n",
    "\n",
    "print(get_product(list1))\n"
   ]
  },
  {
   "attachments": {},
   "cell_type": "markdown",
   "metadata": {},
   "source": [
    "# Q2. \n",
    "Write a python program for encrypting a message sent to you by your friend. The logic of encryption should be such that, for a the output should be z. For b, the output should be y. For c, the output should be x respectively. Also, the whitespace should be replaced with a dollar sign. Keep the punctuation marks unchanged.  \n",
    "Input Sentence: I want to become a Data Scientist.  \n",
    "Encrypt the above input sentence using the program you just created.  \n",
    "Note: Convert the given input sentence into lowercase before encrypting. The final output should be lowercase."
   ]
  },
  {
   "cell_type": "code",
   "execution_count": null,
   "metadata": {},
   "outputs": [],
   "source": []
  }
 ],
 "metadata": {
  "kernelspec": {
   "display_name": "Python 3",
   "language": "python",
   "name": "python3"
  },
  "language_info": {
   "codemirror_mode": {
    "name": "ipython",
    "version": 3
   },
   "file_extension": ".py",
   "mimetype": "text/x-python",
   "name": "python",
   "nbconvert_exporter": "python",
   "pygments_lexer": "ipython3",
   "version": "3.11.0"
  },
  "orig_nbformat": 4
 },
 "nbformat": 4,
 "nbformat_minor": 2
}

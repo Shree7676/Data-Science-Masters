{
 "cells": [
  {
   "attachments": {},
   "cell_type": "markdown",
   "metadata": {},
   "source": [
    "# Q1.  Explain with an example each when to use a for loop and a while loop."
   ]
  },
  {
   "attachments": {},
   "cell_type": "markdown",
   "metadata": {},
   "source": [
    "# Ans 1\n",
    "For Loop\n",
    "    It is used when we know of specific iteration we are going to have i.e.. it is going to run for a specific number of time\n",
    "While loop\n",
    "    On the other hand will run untill the condition is true."
   ]
  },
  {
   "attachments": {},
   "cell_type": "markdown",
   "metadata": {},
   "source": [
    "# Q2.  Write a python program to print the sum and product of the first 10 natural numbers using for and while loop."
   ]
  },
  {
   "cell_type": "code",
   "execution_count": 2,
   "metadata": {},
   "outputs": [
    {
     "name": "stdout",
     "output_type": "stream",
     "text": [
      "55 3628800\n"
     ]
    }
   ],
   "source": [
    "#for loop\n",
    "sum=0\n",
    "product=1\n",
    "for x in range(1,11):\n",
    "    sum+=x\n",
    "    product*=x\n",
    "\n",
    "print(sum,product)\n"
   ]
  },
  {
   "cell_type": "code",
   "execution_count": 3,
   "metadata": {},
   "outputs": [
    {
     "name": "stdout",
     "output_type": "stream",
     "text": [
      "55 3628800\n"
     ]
    }
   ],
   "source": [
    "# While Loop\n",
    "sum=0\n",
    "product=1\n",
    "x=1\n",
    "while x<=10:\n",
    "    sum+=x\n",
    "    product*=x\n",
    "    x+=1\n",
    "\n",
    "\n",
    "print(sum,product)"
   ]
  },
  {
   "attachments": {},
   "cell_type": "markdown",
   "metadata": {},
   "source": [
    "# Q3. Create a python program to compute the electricity bill for a household.\n",
    "The per-unit charges in rupees are as follows: For the first 100 units, the user will be charged Rs. 4.5 per\n",
    "unit, for the next 100 units, the user will be charged Rs. 6 per unit, and for the next 100 units, the user will\n",
    "be charged Rs. 10 per unit, After 300 units and above the user will be charged Rs. 20 per unit.\n",
    "You are required to take the units of electricity consumed in a month from the user as input.\n",
    "Your program must pass this test case: when the unit of electricity consumed by the user in a month is\n",
    "310, the total electricity bill should be 2250."
   ]
  },
  {
   "cell_type": "code",
   "execution_count": 17,
   "metadata": {},
   "outputs": [
    {
     "name": "stdout",
     "output_type": "stream",
     "text": [
      "the total electricity bill=  2250.0\n"
     ]
    }
   ],
   "source": [
    "first_100=4.5\n",
    "second_100=6\n",
    "third_100=10\n",
    "next_100=20\n",
    "\n",
    "units=int(input(\"units of electricity consumed in a month\"))\n",
    "\n",
    "if units>100:\n",
    "    if units>200:\n",
    "        if units>300:\n",
    "            print(\"the total electricity bill= \",(100*first_100)+(100*second_100)+(100*third_100)+(units-300)*next_100)\n",
    "        else:\n",
    "            print(\"the total electricity bill= \",(100*first_100)+(100*second_100)+(units-200)*third_100)\n",
    "    else:\n",
    "        print(\"the total electricity bill= \",100*first_100+(units-100)*second_100)\n",
    "else:\n",
    "    print(\"the total electricity bill= \",units*first_100)\n",
    "\n"
   ]
  },
  {
   "attachments": {},
   "cell_type": "markdown",
   "metadata": {},
   "source": [
    "# Q4. \n",
    "Create a list of numbers from 1 to 100. Use for loop and while loop to calculate the cube of each\n",
    "number and if the cube of that number is divisible by 4 or 5 then append that number in a list and print\n",
    "that list."
   ]
  },
  {
   "cell_type": "code",
   "execution_count": 18,
   "metadata": {},
   "outputs": [
    {
     "name": "stdout",
     "output_type": "stream",
     "text": [
      "[8, 64, 125, 216, 512, 1000, 1728, 2744, 3375, 4096, 5832, 8000, 10648, 13824, 15625, 17576, 21952, 27000, 32768, 39304, 42875, 46656, 54872, 64000, 74088, 85184, 91125, 97336, 110592, 125000, 140608, 157464, 166375, 175616, 195112, 216000, 238328, 262144, 274625, 287496, 314432, 343000, 373248, 405224, 421875, 438976, 474552, 512000, 551368, 592704, 614125, 636056, 681472, 729000, 778688, 830584, 857375, 884736, 941192, 1000000]\n"
     ]
    }
   ],
   "source": [
    "\n",
    "reqd_list=[]\n",
    "for x in range(1,101):\n",
    "    if (((x**3)%4==0 ) or  ((x**3)%5==0)):\n",
    "        reqd_list.append(x**3)\n",
    "\n",
    "print(reqd_list)"
   ]
  },
  {
   "cell_type": "markdown",
   "metadata": {},
   "source": [
    "# Q5.  Write a program to filter count vowels in the below-given string.\n",
    "\n",
    "# string = \"I want to become a data scientist\""
   ]
  },
  {
   "cell_type": "code",
   "execution_count": 19,
   "metadata": {},
   "outputs": [
    {
     "name": "stdout",
     "output_type": "stream",
     "text": [
      "12\n"
     ]
    }
   ],
   "source": [
    "count=0\n",
    "for x in \"I want to become a data scientist\":\n",
    "    if x.lower() in [\"a\",\"e\",\"i\",\"o\",\"u\"]:\n",
    "        count+=1\n",
    "print(count)"
   ]
  },
  {
   "cell_type": "code",
   "execution_count": null,
   "metadata": {},
   "outputs": [],
   "source": []
  }
 ],
 "metadata": {
  "kernelspec": {
   "display_name": "base",
   "language": "python",
   "name": "python3"
  },
  "language_info": {
   "codemirror_mode": {
    "name": "ipython",
    "version": 3
   },
   "file_extension": ".py",
   "mimetype": "text/x-python",
   "name": "python",
   "nbconvert_exporter": "python",
   "pygments_lexer": "ipython3",
   "version": "3.10.5"
  },
  "orig_nbformat": 4
 },
 "nbformat": 4,
 "nbformat_minor": 2
}

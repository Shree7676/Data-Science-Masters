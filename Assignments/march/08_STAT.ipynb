{
 "cells": [
  {
   "attachments": {},
   "cell_type": "markdown",
   "metadata": {},
   "source": [
    "# Q1. What is the Probability density function?"
   ]
  },
  {
   "cell_type": "code",
   "execution_count": 5,
   "metadata": {},
   "outputs": [],
   "source": [
    "# In probability theory, a probability density function(PDF) is a function that describes the probability distribution of a random variable in terms of its possible values. The PDF represents the relative likelihood of each value of the random variable occurring.\n",
    "\n",
    "# More specifically, the PDF is a non-negative function that integrates to 1 over the range of possible values of the random variable. It provides the density of probability per unit of the variable. This means that the probability of the variable taking a value within a given range is equal to the area under the curve of the PDF over that range.\n",
    "\n",
    "# For continuous random variables, the PDF is a smooth function, and the probability of the variable taking any specific value is zero. Instead, probabilities are assigned to intervals of values. For discrete random variables, the PDF is a function that assigns a probability to each possible value that the random variable can take.\n",
    "\n",
    "# The PDF is an important concept in probability theory and is used to calculate probabilities, expected values, and other statistics of random variables."
   ]
  },
  {
   "attachments": {},
   "cell_type": "markdown",
   "metadata": {},
   "source": [
    "# Q2. What are the types of Probability distribution?"
   ]
  },
  {
   "cell_type": "code",
   "execution_count": 6,
   "metadata": {},
   "outputs": [],
   "source": [
    "# There are two main types of probability distributions: discrete probability distributions and continuous probability distributions.\n",
    "\n",
    "# 1. Discrete probability distributions:\n",
    "# Discrete probability distributions are used to model random variables that can only take on a finite or countably infinite number of values. Examples of discrete probability distributions include the binomial distribution, Poisson distribution, and geometric distribution.\n",
    "\n",
    "# 2. Continuous probability distributions:\n",
    "# Continuous probability distributions are used to model random variables that can take on any value within a specified range. Examples of continuous probability distributions include the normal distribution, exponential distribution, and beta distribution.\n",
    "\n",
    "# Both types of probability distributions are characterized by their probability density functions(PDFs) or probability mass functions(PMFs), which describe the probability of each possible value or range of values that the random variable can take. The shape of the PDF or PMF depends on the specific distribution, and different distributions have different properties and applications in probability theory and statistics.-"
   ]
  },
  {
   "attachments": {},
   "cell_type": "markdown",
   "metadata": {},
   "source": [
    "# Q3. Write a Python function to calculate the probability density function of a normal distribution with\n",
    "# given mean and standard deviation at a given point."
   ]
  },
  {
   "cell_type": "code",
   "execution_count": 7,
   "metadata": {},
   "outputs": [
    {
     "name": "stdout",
     "output_type": "stream",
     "text": [
      "0.24197072451914337\n"
     ]
    }
   ],
   "source": [
    "import math\n",
    "\n",
    "\n",
    "def normal_pdf(x, mu, sigma):\n",
    "    \"\"\"\n",
    "    Calculates the probability density function (PDF) of a normal distribution at a given point x, with mean mu\n",
    "    and standard deviation sigma.\n",
    "    \n",
    "    Parameters:\n",
    "    x (float): The point at which to calculate the PDF.\n",
    "    mu (float): The mean of the normal distribution.\n",
    "    sigma (float): The standard deviation of the normal distribution.\n",
    "    \n",
    "    Returns:\n",
    "    float: The PDF of the normal distribution at the given point x.\n",
    "    \"\"\"\n",
    "    coefficient = 1 / (sigma * math.sqrt(2 * math.pi))\n",
    "    exponent = -1 * ((x - mu) ** 2) / (2 * sigma ** 2)\n",
    "    return coefficient * math.exp(exponent)\n",
    "\n",
    "\n",
    "pdf_value = normal_pdf(1, 0, 1)\n",
    "print(pdf_value)\n"
   ]
  },
  {
   "attachments": {},
   "cell_type": "markdown",
   "metadata": {},
   "source": [
    "# Q4. What are the properties of Binomial distribution? Give two examples of events where binomial\n",
    "# distribution can be applied."
   ]
  },
  {
   "cell_type": "code",
   "execution_count": 8,
   "metadata": {},
   "outputs": [],
   "source": [
    "# The binomial distribution is a discrete probability distribution that describes the number of successes in a fixed number of independent trials, where each trial has only two possible outcomes: success or failure. The properties of the binomial distribution are as follows:\n",
    "\n",
    "# 1. The experiment consists of a fixed number of trials.\n",
    "# 2. Each trial has only two possible outcomes, which are usually labeled as success and failure.\n",
    "# 3. The trials are independent of each other, meaning that the outcome of one trial does not affect the outcome of any other trial.\n",
    "# 4. The probability of success remains constant from trial to trial.\n",
    "# 5. The random variable of interest is the number of successes in the fixed number of trials.\n",
    "\n",
    "# Two examples of events where the binomial distribution can be applied are:\n",
    "\n",
    "# 1. Flipping a coin: Suppose you flip a fair coin 10 times and want to know the probability of getting exactly 7 heads. Each flip is a trial, and the outcome of each flip is either a head or a tail. The probability of getting a head on any given flip is 0.5, and the probability of getting a tail is also 0.5. The number of heads in 10 flips follows a binomial distribution.\n",
    "\n",
    "# 2. Manufacturing defects: A factory produces light bulbs, and the probability of a bulb being defective is 0.05. If you randomly select 20 bulbs, what is the probability that exactly 3 of them are defective? Each bulb can be considered a trial, with the two possible outcomes being defective or non-defective. The probability of a bulb being defective is constant and independent for each bulb, and the number of defective bulbs in 20 trials follows a binomial distribution.\n"
   ]
  },
  {
   "attachments": {},
   "cell_type": "markdown",
   "metadata": {},
   "source": [
    "# Q5. Generate a random sample of size 1000 from a binomial distribution with probability of success 0.4\n",
    "# and plot a histogram of the results using matplotlib."
   ]
  },
  {
   "cell_type": "code",
   "execution_count": 9,
   "metadata": {},
   "outputs": [
    {
     "data": {
      "image/png": "[encoded data removed]",
      "text/plain": [
       "<Figure size 640x480 with 1 Axes>"
      ]
     },
     "metadata": {},
     "output_type": "display_data"
    }
   ],
   "source": [
    "import numpy as np\n",
    "import matplotlib.pyplot as plt\n",
    "\n",
    "# Set the random seed for reproducibility\n",
    "np.random.seed(42)\n",
    "\n",
    "# Generate a random sample of size 1000 from a binomial distribution with probability of success 0.4\n",
    "sample = np.random.binomial(n=1, p=0.4, size=1000)\n",
    "\n",
    "# Plot a histogram of the results\n",
    "plt.hist(sample, bins=10, alpha=0.5)\n",
    "plt.xlabel('Number of successes')\n",
    "plt.ylabel('Frequency')\n",
    "plt.title('Binomial Distribution with p=0.4')\n",
    "plt.show()\n"
   ]
  },
  {
   "attachments": {},
   "cell_type": "markdown",
   "metadata": {},
   "source": [
    "# Q6. Write a Python function to calculate the cumulative distribution function of a Poisson distribution with given mean at a given point."
   ]
  },
  {
   "cell_type": "code",
   "execution_count": 10,
   "metadata": {},
   "outputs": [
    {
     "name": "stdout",
     "output_type": "stream",
     "text": [
      "0.9160820579686966\n"
     ]
    }
   ],
   "source": [
    "from scipy.stats import poisson\n",
    "\n",
    "\n",
    "def poisson_cdf(mean, point):\n",
    "    \"\"\"\n",
    "    Calculates the cumulative distribution function (CDF) of a Poisson distribution\n",
    "    with a given mean at a given point.\n",
    "    \n",
    "    Parameters:\n",
    "    mean (float): The mean of the Poisson distribution.\n",
    "    point (int): The point at which to evaluate the CDF.\n",
    "    \n",
    "    Returns:\n",
    "    float: The value of the CDF at the given point.\n",
    "    \"\"\"\n",
    "    return poisson.cdf(point, mu=mean)\n",
    "\n",
    "\n",
    "# Calculate the CDF of a Poisson distribution with mean 3 at point 5\n",
    "cdf = poisson_cdf(3, 5)\n",
    "print(cdf)\n"
   ]
  },
  {
   "attachments": {},
   "cell_type": "markdown",
   "metadata": {},
   "source": [
    "# Q7. How Binomial distribution different from Poisson distribution?"
   ]
  },
  {
   "cell_type": "code",
   "execution_count": 11,
   "metadata": {},
   "outputs": [],
   "source": [
    "# The binomial distribution and Poisson distribution are both probability distributions that are commonly used in statistics and probability theory.\n",
    "\n",
    "# The binomial distribution is a discrete probability distribution that describes the probability of obtaining a certain number of successes in a fixed number of independent trials, where the probability of success is constant for each trial. It is used when the outcome of each trial is binary(success or failure), and the trials are independent of each other.\n",
    "\n",
    "# On the other hand, the Poisson distribution is also a discrete probability distribution, but it is used to model the probability of a certain number of events occurring in a fixed interval of time or space. It is used when the events occur randomly and independently, and the rate of occurrence is constant.\n",
    "\n",
    "# In summary, the main difference between the two distributions is that the binomial distribution is used when the number of trials is fixed and the outcome of each trial is binary, while the Poisson distribution is used when the rate of occurrence of events is fixed and the number of events occurring in a certain interval is of interest.\n"
   ]
  },
  {
   "attachments": {},
   "cell_type": "markdown",
   "metadata": {},
   "source": [
    "# Q8. Generate a random sample of size 1000 from a Poisson distribution with mean 5 and calculate the\n",
    "# sample mean and variance."
   ]
  },
  {
   "cell_type": "code",
   "execution_count": 12,
   "metadata": {},
   "outputs": [
    {
     "name": "stdout",
     "output_type": "stream",
     "text": [
      "Sample Mean: 4.919\n",
      "Sample Variance: 5.030439\n"
     ]
    }
   ],
   "source": [
    "import numpy as np\n",
    "\n",
    "# set seed for reproducibility\n",
    "np.random.seed(123)\n",
    "\n",
    "# generate random sample of size 1000 from Poisson distribution with mean 5\n",
    "sample = np.random.poisson(lam=5, size=1000)\n",
    "# calculate sample mean\n",
    "sample_mean = np.mean(sample)\n",
    "print(\"Sample Mean:\", sample_mean)\n",
    "\n",
    "# calculate sample variance\n",
    "sample_var = np.var(sample)\n",
    "print(\"Sample Variance:\", sample_var)\n"
   ]
  },
  {
   "attachments": {},
   "cell_type": "markdown",
   "metadata": {},
   "source": [
    "# Q9. How mean and variance are related in Binomial distribution and Poisson distribution?"
   ]
  },
  {
   "cell_type": "code",
   "execution_count": 13,
   "metadata": {},
   "outputs": [],
   "source": [
    "# In both binomial distribution and Poisson distribution, the mean and variance are related, but in slightly different ways.\n",
    "\n",
    "# For the binomial distribution, the mean is equal to the product of the number of trials(n) and the probability of success in each trial(p), i.e., mean = np. The variance is equal to the product of the number of trials(n), the probability of success in each trial(p), and the probability of failure in each trial(q=1-p), i.e., variance = npq.\n",
    "\n",
    "# Therefore, in binomial distribution, the variance is dependent on both the number of trials and the probability of success, and increases as either of these parameters increases.\n",
    "\n",
    "# On the other hand, for the Poisson distribution, the mean and variance are equal and are both equal to the rate parameter lambda (λ). That is , mean = variance = λ.\n",
    "\n",
    "# Therefore, in Poisson distribution, the variance is solely dependent on the rate of occurrence, and increases as the rate of occurrence increases.\n",
    "\n",
    "# In summary, for binomial distribution, the variance is proportional to the number of trials and probability of success, while for Poisson distribution, the variance is equal to the mean, which is the rate of occurrence.\n"
   ]
  },
  {
   "attachments": {},
   "cell_type": "markdown",
   "metadata": {},
   "source": [
    "# Q10. In normal distribution with respect to mean position, where does the least frequent data appear?"
   ]
  },
  {
   "cell_type": "code",
   "execution_count": 14,
   "metadata": {},
   "outputs": [],
   "source": [
    "\n",
    "\n",
    "# In a normal distribution, also known as a Gaussian distribution, the data is symmetrically distributed around the mean. The least frequent data appears in the tails of the distribution, which are the regions that are farther away from the mean. \n",
    "\n",
    "# The normal distribution is a continuous probability distribution, which means that the probability of any specific value is zero. Instead, we use the probability density function (PDF) to describe the likelihood of a value falling within a certain range. The PDF has its maximum value at the mean, and it decreases as we move away from the mean in either direction.\n",
    "\n",
    "# The tails of the distribution, which are the regions farther away from the mean, have lower probabilities of occurrence compared to the values near the mean. The specific location of the least frequent data depends on the standard deviation of the distribution. \n",
    "\n",
    "# For example, in a standard normal distribution (i.e., a normal distribution with a mean of 0 and a standard deviation of 1), the least frequent data would appear in the tails beyond ±3 standard deviations from the mean. This is because about 99.7% of the data falls within this range, and only about 0.3% falls beyond it. \n",
    "\n",
    "# In general, the farther away from the mean a value is, the less frequent it is in a normal distribution."
   ]
  }
 ],
 "metadata": {
  "kernelspec": {
   "display_name": "Python 3",
   "language": "python",
   "name": "python3"
  },
  "language_info": {
   "codemirror_mode": {
    "name": "ipython",
    "version": 3
   },
   "file_extension": ".py",
   "mimetype": "text/x-python",
   "name": "python",
   "nbconvert_exporter": "python",
   "pygments_lexer": "ipython3",
   "version": "3.11.0"
  },
  "orig_nbformat": 4
 },
 "nbformat": 4,
 "nbformat_minor": 2
}

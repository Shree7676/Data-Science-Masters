{
 "cells": [
  {
   "attachments": {},
   "cell_type": "markdown",
   "metadata": {},
   "source": [
    "# Q1: What is Estimation Statistics? Explain point estimate and interval estimate."
   ]
  },
  {
   "cell_type": "code",
   "execution_count": null,
   "metadata": {},
   "outputs": [],
   "source": [
    "# Estimation statistics is a branch of statistics that deals with estimating unknown parameters of a population based on sample data. The two main types of estimates used in estimation statistics are point estimates and interval estimates.\n",
    "\n",
    "# Point estimate is a single value that is used to estimate the unknown population parameter. A point estimate is calculated using a sample statistic, such as the sample mean or sample proportion, that is assumed to be representative of the population parameter. Point estimates provide a simple and easy-to-understand estimate of the population parameter but do not provide any information about the accuracy or precision of the estimate.\n",
    "\n",
    "# Interval estimate, also known as confidence interval, is a range of values that is used to estimate the unknown population parameter with a specified degree of confidence. An interval estimate is calculated using a sample statistic, such as the sample mean or sample proportion, and a margin of error based on the sample size and the level of confidence desired. Interval estimates provide a more informative estimate of the population parameter than point estimates, as they give an indication of the range of plausible values for the parameter and the level of uncertainty associated with the estimate.\n",
    "\n",
    "# In general, point estimates are useful when we want a quick and easy estimate of the population parameter, while interval estimates are more informative and provide a measure of uncertainty associated with the estimate. However, it is important to note that both point estimates and interval estimates are subject to sampling error and should be interpreted with caution.\n"
   ]
  },
  {
   "cell_type": "code",
   "execution_count": null,
   "metadata": {},
   "outputs": [],
   "source": [
    "\n",
    "\n",
    "# Q2. Write a Python function to estimate the population mean using a sample mean and standard deviation.\n",
    "# Q3: What is Hypothesis testing? Why is it used? State the importance of Hypothesis testing.\n",
    "# Q4. Create a hypothesis that states whether the average weight of male college students is greater than the average weight of female college students.\n",
    "# Q5. Write a Python script to conduct a hypothesis test on the difference between two population means, given a sample from each population.\n",
    "# Q6: What is a null and alternative hypothesis? Give some examples.\n",
    "# Q7: Write down the steps involved in hypothesis testing.\n",
    "# Q8. Define p-value and explain its significance in hypothesis testing.\n",
    "# Q9. Generate a Student's t-distribution plot using Python's matplotlib library, with the degrees of freedom parameter set to 10.\n",
    "# Q10. Write a Python program to calculate the two-sample t-test for independent samples, given two random samples of equal size and a null hypothesis that the population means are equal.\n",
    "# Q11: What is Student’s t distribution? When to use the t-Distribution.\n",
    "# Q12: What is t-statistic? State the formula for t-statistic.\n",
    "# Q13. A coffee shop owner wants to estimate the average daily revenue for their shop. They take a random sample of 50 days and find the sample mean revenue to be $500 with a standard deviation of $50. Estimate the population mean revenue with a 95 % confidence interval.\n",
    "# Q14. A researcher hypothesizes that a new drug will decrease blood pressure by 10 mmHg. They conduct a clinical trial with 100 patients and find that the sample mean decrease in blood pressure is 8 mmHg with a standard deviation of 3 mmHg. Test the hypothesis with a significance level of 0.05.\n",
    "# Q15. An electronics company produces a certain type of product with a mean weight of 5 pounds and a standard deviation of 0.5 pounds. A random sample of 25 products is taken, and the sample mean weight is found to be 4.8 pounds. Test the hypothesis that the true mean weight of the products is less than 5 pounds with a significance level of 0.01.\n",
    "# Q16. Two groups of students are given different study materials to prepare for a test. The first group(n1=30) has a mean score of 80 with a standard deviation of 10, and the second group(n2=40) has a mean score of 75 with a standard deviation of 8. Test the hypothesis that the population means for the two groups are equal with a significance level of 0.01.\n",
    "# Q17. A marketing company wants to estimate the average number of ads watched by viewers during a TV program. They take a random sample of 50 viewers and find that the sample mean is 4 with a standard deviation of 1.5. Estimate the population mean with a 99 % confidence interval.\n",
    "\n"
   ]
  }
 ],
 "metadata": {
  "language_info": {
   "name": "python"
  },
  "orig_nbformat": 4
 },
 "nbformat": 4,
 "nbformat_minor": 2
}

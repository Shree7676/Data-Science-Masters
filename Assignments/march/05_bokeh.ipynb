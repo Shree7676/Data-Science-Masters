{
 "cells": [
  {
   "cell_type": "code",
   "execution_count": 4,
   "metadata": {},
   "outputs": [],
   "source": [
    "from bokeh.plotting import figure, output_file, show\n",
    "\n",
    "# Q1. How can you create a Bokeh plot using Python code?\n",
    "# Q2. What are glyphs in Bokeh, and how can you add them to a Bokeh plot? Explain with an example.\n",
    "# Q3. How can you customize the appearance of a Bokeh plot, including the axes, title, and legend?\n",
    "\n",
    "# Define some data to plot\n",
    "x = [1, 2, 3, 4, 5]\n",
    "y = [6, 7, 2, 4, 5]\n",
    "\n",
    "# Create a Bokeh figure object\n",
    "p = figure(title=\"Glyph example\", x_axis_label='x', y_axis_label='y')\n",
    "\n",
    "# Add a circle glyph to the plot\n",
    "p.circle(x, y, size=10, color=\"navy\", alpha=0.5)\n",
    "\n",
    "# Add a line glyph to the plot\n",
    "p.line(x, y, line_width=2, color=\"green\", legend_label=\"Line\")\n",
    "\n",
    "# Specify the output file for the plot\n",
    "output_file(\"glyph.html\")\n",
    "\n",
    "# Show the plot\n",
    "show(p)\n"
   ]
  },
  {
   "cell_type": "code",
   "execution_count": 6,
   "metadata": {},
   "outputs": [],
   "source": [
    "# Q4. What is a Bokeh server, and how can you use it to create interactive plots that can be updated in real time?\n",
    "from bokeh.plotting import figure\n",
    "from bokeh.models import ColumnDataSource\n",
    "from bokeh.io import curdoc\n",
    "\n",
    "\n",
    "\n",
    "def scatter_plot():\n",
    "    source = ColumnDataSource(data=dict(x=[1, 2, 3], y=[4, 5, 6]))\n",
    "    p = figure(title='Scatter Plot', tools=['pan', 'box_zoom', 'reset'])\n",
    "    p.scatter(x='x', y='y', source=source, size=10)\n",
    "    return p\n",
    "\n",
    "\n",
    "curdoc().add_root(scatter_plot())\n",
    "\n",
    "\n",
    "# bokeh server --show myapp.py"
   ]
  },
  {
   "cell_type": "code",
   "execution_count": 17,
   "metadata": {},
   "outputs": [
    {
     "name": "stdout",
     "output_type": "stream",
     "text": [
      " * Serving Flask app '__main__'\n",
      " * Debug mode: off\n"
     ]
    },
    {
     "name": "stderr",
     "output_type": "stream",
     "text": [
      "WARNING: This is a development server. Do not use it in a production deployment. Use a production WSGI server instead.\n",
      " * Running on all addresses (0.0.0.0)\n",
      " * Running on http://127.0.0.1:5000\n",
      " * Running on http://192.168.1.7:5000\n",
      "Press CTRL+C to quit\n",
      "192.168.1.7 - - [11/Apr/2023 00:31:54] \"GET / HTTP/1.1\" 200 -\n",
      "192.168.1.7 - - [11/Apr/2023 00:31:54] \"GET / HTTP/1.1\" 200 -\n"
     ]
    }
   ],
   "source": [
    "# Q5. How can you embed a Bokeh plot into a web page or dashboard using Flask or Django?\n",
    "from flask import Flask, render_template\n",
    "from bokeh.embed import components\n",
    "from bokeh.plotting import figure\n",
    "\n",
    "plot=figure(title='My First Bokeh Plot')\n",
    "plot.line([1,2,3,4,5],[2,4,6,8,10])\n",
    "\n",
    "script, div = components(plot)\n",
    "\n",
    "\n",
    "app=Flask(__name__)\n",
    "\n",
    "@app.route('/')\n",
    "def Welcome():\n",
    "    return render_template('index.html', script=script, div=div)\n",
    "\n",
    "app.run('0.0.0.0')"
   ]
  }
 ],
 "metadata": {
  "kernelspec": {
   "display_name": "Python 3",
   "language": "python",
   "name": "python3"
  },
  "language_info": {
   "codemirror_mode": {
    "name": "ipython",
    "version": 3
   },
   "file_extension": ".py",
   "mimetype": "text/x-python",
   "name": "python",
   "nbconvert_exporter": "python",
   "pygments_lexer": "ipython3",
   "version": "3.11.0"
  },
  "orig_nbformat": 4
 },
 "nbformat": 4,
 "nbformat_minor": 2
}

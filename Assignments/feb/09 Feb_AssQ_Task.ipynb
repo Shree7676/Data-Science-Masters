{
 "cells": [
  {
   "attachments": {},
   "cell_type": "markdown",
   "metadata": {},
   "source": [
    "# Q1, Create a vehicle class with an init method having instance variables as name_of_vehicle, max_speed and average_of_vehicle.  "
   ]
  },
  {
   "cell_type": "code",
   "execution_count": 15,
   "metadata": {},
   "outputs": [
    {
     "data": {
      "text/plain": [
       "('BMW', 10, 300)"
      ]
     },
     "execution_count": 15,
     "metadata": {},
     "output_type": "execute_result"
    }
   ],
   "source": [
    "class vehicle:\n",
    "\n",
    "    def __init__(self, name_of_vehicle, max_speed, averaage_of_vehicle) -> None:\n",
    "        self.name_of_vehicle=name_of_vehicle\n",
    "        self.max_speed=max_speed\n",
    "        self.averaage_of_vehicle=averaage_of_vehicle\n",
    "\n",
    "car1=vehicle('BMW',300,10)\n",
    "car1.name_of_vehicle,car1.averaage_of_vehicle,car1.max_speed\n"
   ]
  },
  {
   "attachments": {},
   "cell_type": "markdown",
   "metadata": {},
   "source": [
    "# Q2.  Create a child class car from the vehicle class created in Que 1, which will inherit the vehicle class. Create a method named seating_capacity which takes capacity as an argument and returns the name of the vehicle and its seating capacity. "
   ]
  },
  {
   "cell_type": "code",
   "execution_count": 16,
   "metadata": {},
   "outputs": [
    {
     "data": {
      "text/plain": [
       "'Audi has a seating capacity of 2.'"
      ]
     },
     "execution_count": 16,
     "metadata": {},
     "output_type": "execute_result"
    }
   ],
   "source": [
    "class child_vehicle(vehicle):\n",
    "\n",
    "    def seating_capacity(self,cap):\n",
    "        return f\"{self.name_of_vehicle} has a seating capacity of {cap}.\"\n",
    "    \n",
    "car2=child_vehicle('Audi',350,10)\n",
    "car2.seating_capacity(2)\n"
   ]
  },
  {
   "attachments": {},
   "cell_type": "markdown",
   "metadata": {},
   "source": [
    "# Q3. What is multiple inheritance? Write a python code to demonstrate multiple inheritance. "
   ]
  },
  {
   "cell_type": "code",
   "execution_count": 17,
   "metadata": {},
   "outputs": [
    {
     "data": {
      "text/plain": [
       "('Jaguar has a seating capacity of 6.', 'Jaguar runs on  Hydrogen.')"
      ]
     },
     "execution_count": 17,
     "metadata": {},
     "output_type": "execute_result"
    }
   ],
   "source": [
    "class child_vehicle2(child_vehicle):\n",
    "\n",
    "    def engine_type(self, fuel):\n",
    "        return f\"{self.name_of_vehicle} runs on  {fuel}.\"\n",
    "    \n",
    "\n",
    "car3 = child_vehicle2('Jaguar', 400, 10)\n",
    "\n",
    "car3.seating_capacity(6) , car3.engine_type('Hydrogen')"
   ]
  },
  {
   "attachments": {},
   "cell_type": "markdown",
   "metadata": {},
   "source": [
    "# Q4. What are getter and setter in python? Create a class and create a getter and a setter method in this class."
   ]
  },
  {
   "cell_type": "code",
   "execution_count": 18,
   "metadata": {},
   "outputs": [],
   "source": [
    "class Person:\n",
    "    def __init__(self, name, age):\n",
    "        self._name = name\n",
    "        self._age = age\n",
    "\n",
    "    def get_name(self): # getter method >> to get private attributes\n",
    "        return self._name\n",
    "\n",
    "    def set_name(self, name):  # setter method >> to change private attributes\n",
    "        self._name = name\n",
    "\n",
    "    def get_age(self):  # getter method >> to get private attributes\n",
    "        return self._age\n",
    "\n",
    "    def set_age(self, age):  # setter method >> to change private attributes\n",
    "        self._age = age\n"
   ]
  },
  {
   "attachments": {},
   "cell_type": "markdown",
   "metadata": {},
   "source": [
    "# Q5.What is method overriding in python? Write a python code to demonstrate method overriding"
   ]
  },
  {
   "cell_type": "code",
   "execution_count": 19,
   "metadata": {},
   "outputs": [
    {
     "name": "stdout",
     "output_type": "stream",
     "text": [
      "Meow\n",
      "Woof\n"
     ]
    }
   ],
   "source": [
    "class Animal:\n",
    "    def make_sound(self):\n",
    "        print(\"The animal makes a sound.\")\n",
    "\n",
    "\n",
    "class Cat(Animal):\n",
    "    def make_sound(self):\n",
    "        print(\"Meow\")\n",
    "\n",
    "\n",
    "class Dog(Animal):\n",
    "    def make_sound(self):\n",
    "        print(\"Woof\")\n",
    "\n",
    "\n",
    "# Creating instances of Cat and Dog classes\n",
    "my_cat = Cat()\n",
    "my_dog = Dog()\n",
    "\n",
    "# Calling the make_sound method on the instances\n",
    "my_cat.make_sound()  # Output: Meow\n",
    "my_dog.make_sound()  # Output: Woof\n"
   ]
  }
 ],
 "metadata": {
  "kernelspec": {
   "display_name": "Python 3",
   "language": "python",
   "name": "python3"
  },
  "language_info": {
   "codemirror_mode": {
    "name": "ipython",
    "version": 3
   },
   "file_extension": ".py",
   "mimetype": "text/x-python",
   "name": "python",
   "nbconvert_exporter": "python",
   "pygments_lexer": "ipython3",
   "version": "3.11.0"
  },
  "orig_nbformat": 4
 },
 "nbformat": 4,
 "nbformat_minor": 2
}

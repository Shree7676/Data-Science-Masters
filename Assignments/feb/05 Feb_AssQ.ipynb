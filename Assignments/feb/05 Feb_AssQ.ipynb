{
 "cells": [
  {
   "attachments": {},
   "cell_type": "markdown",
   "metadata": {},
   "source": [
    "# Q1. Explain Class and Object with respect to Object-Oriented Programming. Give a suitable example."
   ]
  },
  {
   "cell_type": "code",
   "execution_count": null,
   "metadata": {},
   "outputs": [],
   "source": [
    "# a class is a blueprint or template for creating objects. It defines the properties and behaviors that an object of that class should have. An object, on the other hand, is an instance of a class. It represents a specific entity in the real world and has its own set of properties and behaviors.\n",
    "\n",
    "class Car:\n",
    "    def __init__(self, make, model, year, color):\n",
    "        self.make = make\n",
    "        self.model = model\n",
    "        self.year = year\n",
    "        self.color = color\n",
    "        self.speed = 0\n",
    "\n",
    "    def start(self):\n",
    "        print(f\"The {self.color} {self.make} {self.model} is starting.\")\n",
    "\n",
    "    def stop(self):\n",
    "        print(f\"The {self.color} {self.make} {self.model} is stopping.\")\n",
    "\n",
    "    def accelerate(self, speed):\n",
    "        self.speed += speed\n",
    "        print(\n",
    "            f\"The {self.color} {self.make} {self.model} is accelerating to {self.speed} mph.\")\n",
    "\n",
    "    def brake(self, speed):\n",
    "        self.speed -= speed\n",
    "        print(\n",
    "            f\"The {self.color} {self.make} {self.model} is slowing down to {self.speed} mph.\")\n",
    "\n",
    "\n",
    "my_car = Car(\"Toyota\", \"Camry\", 2021, \"silver\")\n"
   ]
  },
  {
   "attachments": {},
   "cell_type": "markdown",
   "metadata": {},
   "source": [
    "# Q2. Name the four pillars of OOPs.\n"
   ]
  },
  {
   "cell_type": "code",
   "execution_count": null,
   "metadata": {},
   "outputs": [],
   "source": [
    "# Encapsulation\n",
    "# Abstraction\n",
    "# Inheritance\n",
    "# Polymorphism"
   ]
  },
  {
   "attachments": {},
   "cell_type": "markdown",
   "metadata": {},
   "source": [
    "# Q3. Explain why the __init__() function is used. Give a suitable example"
   ]
  },
  {
   "cell_type": "code",
   "execution_count": 1,
   "metadata": {},
   "outputs": [
    {
     "name": "stdout",
     "output_type": "stream",
     "text": [
      "10\n",
      "20\n"
     ]
    }
   ],
   "source": [
    "# __init__() function is a special method that is used to initialize the instance variables of a class . It is called automatically when an object is created from a class . The __init__() method can be used to assign initial values to the attributes of the class .\n",
    "\n",
    "\n",
    "class Rectangle:\n",
    "    def __init__(self, width, height):\n",
    "        self.width = width\n",
    "        self.height = height\n",
    "\n",
    "\n",
    "rect = Rectangle(10, 20)\n",
    "print(rect.width)  # Output: 10\n",
    "print(rect.height)  # Output: 20\n"
   ]
  },
  {
   "attachments": {},
   "cell_type": "markdown",
   "metadata": {},
   "source": [
    "# Q4. Why self is used in OOPs?"
   ]
  },
  {
   "cell_type": "code",
   "execution_count": 2,
   "metadata": {},
   "outputs": [],
   "source": [
    "# In object-oriented programming, self is a special keyword that refers to the instance of the class. It is used to access the instance variables and methods of a class within the class methods.\n"
   ]
  },
  {
   "attachments": {},
   "cell_type": "markdown",
   "metadata": {},
   "source": [
    "# Q5. What is inheritance? Give an example for each type of inheritance"
   ]
  },
  {
   "cell_type": "code",
   "execution_count": null,
   "metadata": {},
   "outputs": [],
   "source": [
    "# Inheritance is a mechanism in object-oriented programming that allows one class to inherit the properties and behavior of another class . The class that is being inherited from is called the base class or parent class, while the class that inherits from it is called the ??derived class or child class.\n",
    "\n",
    "\n",
    "class Animal:\n",
    "    def __init__(self, name):\n",
    "        self.name = name\n",
    "\n",
    "    def eat(self):\n",
    "        print(f\"{self.name} is eating.\")\n",
    "\n",
    "\n",
    "class Dog(Animal):\n",
    "    def __init__(self, name):\n",
    "        super().__init__(name)\n",
    "\n",
    "    def bark(self):\n",
    "        print(f\"{self.name} is barking.\")\n",
    "\n",
    "\n",
    "dog = Dog(\"Max\")\n",
    "dog.eat()  # Output: Max is eating.\n",
    "dog.bark()  # Output: Max is barking.\n"
   ]
  }
 ],
 "metadata": {
  "kernelspec": {
   "display_name": "Python 3",
   "language": "python",
   "name": "python3"
  },
  "language_info": {
   "codemirror_mode": {
    "name": "ipython",
    "version": 3
   },
   "file_extension": ".py",
   "mimetype": "text/x-python",
   "name": "python",
   "nbconvert_exporter": "python",
   "pygments_lexer": "ipython3",
   "version": "3.11.0"
  },
  "orig_nbformat": 4
 },
 "nbformat": 4,
 "nbformat_minor": 2
}

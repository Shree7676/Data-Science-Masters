{
 "cells": [
  {
   "attachments": {},
   "cell_type": "markdown",
   "metadata": {},
   "source": [
    "# Q1. What is Abstraction in OOps? Explain with an example. "
   ]
  },
  {
   "cell_type": "code",
   "execution_count": 3,
   "metadata": {},
   "outputs": [],
   "source": [
    "# Abstraction is one of the fundamental principles of object-oriented programming(OOP) that allows developers to reduce complexity by hiding unnecessary implementation details and only exposing essential features to the user. In other words, it focuses on what the object does rather than how it does it.\n"
   ]
  },
  {
   "attachments": {},
   "cell_type": "markdown",
   "metadata": {},
   "source": [
    "# Q2. Differentiate between Abstraction and Encapsulation. Explain with an example. "
   ]
  },
  {
   "cell_type": "code",
   "execution_count": 4,
   "metadata": {},
   "outputs": [
    {
     "name": "stdout",
     "output_type": "stream",
     "text": [
      "1300\n",
      "1300\n"
     ]
    }
   ],
   "source": [
    "# Abstraction is about hiding unnecessary implementation details and only exposing essential features to the user. It focuses on what the object does rather than how it does it. Abstraction is achieved through the use of abstract classes, interfaces, and inheritance.\n",
    "\n",
    "# Encapsulation, on the other hand, is about hiding the internal state of an object and providing a well-defined interface for accessing and manipulating that state. It ensures that an object's state can only be modified through controlled methods, preventing external code from directly accessing or modifying the object's internal state. \n",
    "\n",
    "# Abstraction example\n",
    "from abc import ABC, abstractmethod\n",
    "\n",
    "\n",
    "class Shape(ABC):\n",
    "    @abstractmethod\n",
    "    def area(self):\n",
    "        pass\n",
    "\n",
    "    @abstractmethod\n",
    "    def perimeter(self):\n",
    "        pass\n",
    "\n",
    "\n",
    "class Rectangle(Shape):\n",
    "    def __init__(self, width, height):\n",
    "        self.width = width\n",
    "        self.height = height\n",
    "\n",
    "    def area(self):\n",
    "        return self.width * self.height\n",
    "\n",
    "    def perimeter(self):\n",
    "        return 2 * (self.width + self.height)\n",
    "\n",
    "# Encapsulation example\n",
    "\n",
    "\n",
    "class BankAccount:\n",
    "    def __init__(self, balance):\n",
    "        self._balance = balance  # Encapsulated attribute\n",
    "\n",
    "    def deposit(self, amount):\n",
    "        self._balance += amount\n",
    "\n",
    "    def withdraw(self, amount):\n",
    "        if amount > self._balance:\n",
    "            raise ValueError(\"Insufficient balance\")\n",
    "        self._balance -= amount\n",
    "\n",
    "    def get_balance(self):\n",
    "        return self._balance\n",
    "\n",
    "\n",
    "account = BankAccount(1000)\n",
    "account.deposit(500)  # Access through method\n",
    "account.withdraw(200)  # Access through method\n",
    "print(account.get_balance())  # Access through method\n",
    "print(account._balance)  # Direct access (not recommended)\n"
   ]
  },
  {
   "cell_type": "markdown",
   "metadata": {},
   "source": []
  },
  {
   "attachments": {},
   "cell_type": "markdown",
   "metadata": {},
   "source": [
    "# Q3. What is abc module in python? Why is it used?  "
   ]
  },
  {
   "cell_type": "code",
   "execution_count": 5,
   "metadata": {},
   "outputs": [],
   "source": [
    "# The abc(Abstract Base Classes) module in Python provides a way to define abstract classes and interfaces. Abstract classes are classes that cannot be instantiated and are meant to serve as a blueprint for other classes to inherit from . Interfaces are collections of abstract methods that a class can implement to conform to a certain protocol.\n"
   ]
  },
  {
   "cell_type": "markdown",
   "metadata": {},
   "source": []
  },
  {
   "attachments": {},
   "cell_type": "markdown",
   "metadata": {},
   "source": [
    "# Q4. How can we achieve data abstraction?  "
   ]
  },
  {
   "cell_type": "code",
   "execution_count": 6,
   "metadata": {},
   "outputs": [],
   "source": [
    "# Data abstraction can be achieved in object-oriented programming through the use of abstract classes and interfaces.\n",
    "\n",
    "# interface contains only abstract method whereas abstract method can contin both abstract method & non abstrat method"
   ]
  },
  {
   "cell_type": "markdown",
   "metadata": {},
   "source": []
  },
  {
   "attachments": {},
   "cell_type": "markdown",
   "metadata": {},
   "source": [
    "# Q5. Can we create an instance of an abstract class? Explain your answer"
   ]
  },
  {
   "cell_type": "code",
   "execution_count": 7,
   "metadata": {},
   "outputs": [],
   "source": [
    "# No, we cannot create an instance of an abstract class directly.\n",
    "\n",
    "# An abstract class is a class that contains one or more abstract methods, which are declared but not implemented in the abstract class . The purpose of an abstract class is to provide a common interface that can be shared by multiple subclasses, which can provide their own implementation of the abstract methods.\n",
    "\n",
    "# Since an abstract class has one or more abstract methods that are not implemented, it is incomplete and cannot be instantiated on its own. Any class that wants to use the interface defined by the abstract class must subclass it and provide an implementation for all the abstract methods.\n"
   ]
  },
  {
   "cell_type": "markdown",
   "metadata": {},
   "source": []
  }
 ],
 "metadata": {
  "kernelspec": {
   "display_name": "Python 3",
   "language": "python",
   "name": "python3"
  },
  "language_info": {
   "codemirror_mode": {
    "name": "ipython",
    "version": 3
   },
   "file_extension": ".py",
   "mimetype": "text/x-python",
   "name": "python",
   "nbconvert_exporter": "python",
   "pygments_lexer": "ipython3",
   "version": "3.11.0"
  },
  "orig_nbformat": 4
 },
 "nbformat": 4,
 "nbformat_minor": 2
}

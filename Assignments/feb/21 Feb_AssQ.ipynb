{
 "cells": [
  {
   "attachments": {},
   "cell_type": "markdown",
   "metadata": {},
   "source": [
    "# Q1. What is Web Scraping? Why is it Used? Give three areas where Web Scraping is used to get data.\n"
   ]
  },
  {
   "cell_type": "code",
   "execution_count": 1,
   "metadata": {},
   "outputs": [],
   "source": [
    "# Web scraping is the automated process of extracting data from websites using software tools or scripts. The data can be extracted from various sources including web pages, HTML/XML documents, JSON files, images, and other online resources. The process involves crawling through the website, analyzing the HTML or XML code and extracting the relevant information, which can be saved in a structured format such as a database or a spreadsheet.\n",
    "\n",
    "# Web scraping is used for a variety of purposes, including:\n",
    "# Data collection:\n",
    "# Business intelligence:\n",
    "# Content creation:\n",
    "\n",
    "# Here are three specific areas where web scraping is commonly used:\n",
    "# E-commerce:\n",
    "# Academic research:\n",
    "# Job postings:"
   ]
  },
  {
   "attachments": {},
   "cell_type": "markdown",
   "metadata": {},
   "source": [
    "# Q2. What are the different methods used for Web Scraping?"
   ]
  },
  {
   "cell_type": "code",
   "execution_count": null,
   "metadata": {},
   "outputs": [],
   "source": [
    "# Manual Web Scraping: \n",
    "# Web Scraping Libraries: Web scraping libraries such as BeautifulSoup, Scrapy, and PyQuery \n",
    "# Browser Extensions: Browser extensions such as Data Miner and Web Scraper \n",
    "# Headless Browsers: Headless browsers such as PhantomJS and Selenium can be used for web scraping."
   ]
  },
  {
   "attachments": {},
   "cell_type": "markdown",
   "metadata": {},
   "source": [
    "# Q3. What is Beautiful Soup? Why is it used?"
   ]
  },
  {
   "cell_type": "code",
   "execution_count": null,
   "metadata": {},
   "outputs": [],
   "source": [
    "# Beautiful Soup is a Python library that is used for web scraping purposes. It provides a simple way to parse HTML and XML documents and extract data from them. Beautiful Soup helps developers navigate and search through the structure of an HTML or XML document using Python code.\n",
    "\n",
    "# Beautiful Soup is widely used for web scraping because it is easy to use, efficient, and provides a range of features for parsing and extracting data from HTML and XML documents\n"
   ]
  },
  {
   "attachments": {},
   "cell_type": "markdown",
   "metadata": {},
   "source": [
    "# Q4. Why is flask used in this Web Scraping project?"
   ]
  },
  {
   "cell_type": "code",
   "execution_count": null,
   "metadata": {},
   "outputs": [],
   "source": [
    "# To create our own website where we can enter the product name and its related data will be fetched from flipkart website through webscraping and later with the help of flask we will navigae to new page and display all the results tha we got from webscraping"
   ]
  },
  {
   "attachments": {},
   "cell_type": "markdown",
   "metadata": {},
   "source": [
    "# Q5. Write the names of AWS services used in this project. Also, explain the use of each service."
   ]
  },
  {
   "cell_type": "code",
   "execution_count": null,
   "metadata": {},
   "outputs": [],
   "source": [
    "# Pipeline: used to connect our github and automate the deployment of software applications and manage the entire software release process. AWS Pipeline enables to build, test, and deploy code continuously\n",
    "\n",
    "# beamStack provides us the resources that is needed like ram , cpu , secodary memory ...\n",
    "\n",
    "# github >> pipeline >> elastic beamstack"
   ]
  }
 ],
 "metadata": {
  "kernelspec": {
   "display_name": "Python 3",
   "language": "python",
   "name": "python3"
  },
  "language_info": {
   "codemirror_mode": {
    "name": "ipython",
    "version": 3
   },
   "file_extension": ".py",
   "mimetype": "text/x-python",
   "name": "python",
   "nbconvert_exporter": "python",
   "pygments_lexer": "ipython3",
   "version": "3.11.0"
  },
  "orig_nbformat": 4
 },
 "nbformat": 4,
 "nbformat_minor": 2
}

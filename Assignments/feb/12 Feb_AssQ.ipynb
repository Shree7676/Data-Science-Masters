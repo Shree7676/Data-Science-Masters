{
 "cells": [
  {
   "attachments": {},
   "cell_type": "markdown",
   "metadata": {},
   "source": [
    "# Q1. What is an Exception in python? Write the difference between Exceptions and Syntax errors."
   ]
  },
  {
   "cell_type": "code",
   "execution_count": null,
   "metadata": {},
   "outputs": [],
   "source": [
    "# In Python, an exception is a runtime error that occurs when a program is executed and something goes wrong. An exception is an object that represents an error or unexpected condition that has occurred during the execution of a program.\n",
    "\n",
    "# Syntax errors, on the other hand, occur when the Python interpreter encounters invalid syntax in the code. These errors occur when the code is parsed by the Python interpreter and are usually easy to fix, as they can be spotted simply by looking at the code.\n",
    "\n",
    "# The main difference between exceptions and syntax errors is that syntax errors are caught by the interpreter at compile time, while exceptions are caught at runtime. Syntax errors usually result from a mistake in the code, such as a missing colon or incorrect indentation, while exceptions usually result from a mistake in the program logic or from unexpected input or system conditions.\n",
    "\n",
    "# When an exception occurs during the execution of a Python program, the interpreter raises an exception object, which can be caught and handled using exception handling mechanisms like try-except blocks. By catching and handling exceptions, a program can gracefully recover from errors and continue executing, rather than crashing or exiting abruptly."
   ]
  },
  {
   "attachments": {},
   "cell_type": "markdown",
   "metadata": {},
   "source": [
    "# Q2. What happens when an exception is not handled? Explain with an example. "
   ]
  },
  {
   "cell_type": "code",
   "execution_count": 31,
   "metadata": {},
   "outputs": [
    {
     "ename": "ZeroDivisionError",
     "evalue": "division by zero",
     "output_type": "error",
     "traceback": [
      "\u001b[1;31m---------------------------------------------------------------------------\u001b[0m",
      "\u001b[1;31mZeroDivisionError\u001b[0m                         Traceback (most recent call last)",
      "Cell \u001b[1;32mIn[31], line 2\u001b[0m\n\u001b[0;32m      1\u001b[0m \u001b[39mtry\u001b[39;00m:\n\u001b[1;32m----> 2\u001b[0m     x \u001b[39m=\u001b[39m \u001b[39m10\u001b[39;49m \u001b[39m/\u001b[39;49m \u001b[39m0\u001b[39;49m\n\u001b[0;32m      3\u001b[0m \u001b[39mexcept\u001b[39;00m \u001b[39mValueError\u001b[39;00m:\n\u001b[0;32m      4\u001b[0m     \u001b[39mprint\u001b[39m(\u001b[39m\"\u001b[39m\u001b[39mValueError occurred\u001b[39m\u001b[39m\"\u001b[39m)\n",
      "\u001b[1;31mZeroDivisionError\u001b[0m: division by zero"
     ]
    }
   ],
   "source": [
    "try:\n",
    "    x = 10 / 0\n",
    "except ValueError:\n",
    "    print(\"ValueError occurred\")\n",
    "\n",
    "# as you see below the error is raised because except does not handle division by zero error"
   ]
  },
  {
   "attachments": {},
   "cell_type": "markdown",
   "metadata": {},
   "source": [
    "# Q3. Which Python statements are used to catch and handle exceptions? Explain with an example. "
   ]
  },
  {
   "cell_type": "code",
   "execution_count": null,
   "metadata": {},
   "outputs": [
    {
     "name": "stdout",
     "output_type": "stream",
     "text": [
      "Cannot divide by zero.\n"
     ]
    }
   ],
   "source": [
    "# In Python, try -except blocks are used to catch and handle exceptions. The try block contains the code that may raise an exception, while the except block contains the code that handles the exception if one occurs.\n",
    "\n",
    "try:\n",
    "    x = int(input(\"Enter a number: \"))\n",
    "    y = 10 / x\n",
    "    print(y)\n",
    "except ValueError:\n",
    "    print(\"Invalid input, please enter a number.\")\n",
    "except ZeroDivisionError:\n",
    "    print(\"Cannot divide by zero.\")\n"
   ]
  },
  {
   "attachments": {},
   "cell_type": "markdown",
   "metadata": {},
   "source": [
    "# Q4. Explain with an example:#\n",
    "try and else#\n",
    "\n",
    " finall \n",
    " \n",
    " raise "
   ]
  },
  {
   "cell_type": "code",
   "execution_count": null,
   "metadata": {},
   "outputs": [
    {
     "name": "stdout",
     "output_type": "stream",
     "text": [
      "hi\n",
      "code reached here first time\n",
      "exception = division by zero\n"
     ]
    }
   ],
   "source": [
    "# The try block is used to enclose the code that may raise an exception. If an exception is raised in the try block, the corresponding except block is executed. However, if no exception is raised, the code inside the else block is executed\n",
    "\n",
    "try:\n",
    "    print('hi')\n",
    "except Exception as e:\n",
    "    print(e)\n",
    "else:\n",
    "    print('code reached here first time')\n",
    "\n",
    "try:\n",
    "    print(3/0)\n",
    "except Exception as e:\n",
    "    print('exception =', e)\n",
    "else:\n",
    "    print('code will not reach here')\n"
   ]
  },
  {
   "cell_type": "code",
   "execution_count": null,
   "metadata": {},
   "outputs": [
    {
     "name": "stdout",
     "output_type": "stream",
     "text": [
      "hi\n",
      "code reached here\n",
      "exception = division by zero\n",
      "code will reach here even if exception is raised\n"
     ]
    }
   ],
   "source": [
    "# The finally block is used to enclose the code that should be executed regardless of whether an exception is raised or not . This can be useful for releasing resources or performing cleanup operations.\n",
    "\n",
    "try:\n",
    "    print('hi')\n",
    "except Exception as e:\n",
    "    print(e)\n",
    "finally:\n",
    "    print('code reached here')\n",
    "\n",
    "try:\n",
    "    print(3/0)\n",
    "except Exception as e:\n",
    "    print('exception =', e)\n",
    "finally:\n",
    "    print('code will reach here even if exception is raised')\n"
   ]
  },
  {
   "cell_type": "code",
   "execution_count": null,
   "metadata": {},
   "outputs": [
    {
     "name": "stdout",
     "output_type": "stream",
     "text": [
      "Error: You are getting this detailed explanation of error with the help of raise YOU CAN CUSTOMIZE YOUR ERROR\n",
      "Done\n"
     ]
    }
   ],
   "source": [
    "def divide(a, b):\n",
    "    if b == 0:\n",
    "        raise ValueError(\"You are getting this detailed explanation of error with the help of raise YOU CAN CUSTOMIZE YOUR ERROR\")\n",
    "    return a / b\n",
    "\n",
    "\n",
    "try:\n",
    "    result = divide(10, 0)\n",
    "except ValueError as e:\n",
    "    print(f\"Error: {e}\")\n",
    "else:\n",
    "    print(f\"Result: {result}\")\n",
    "finally:\n",
    "    print(\"Done\")\n"
   ]
  },
  {
   "attachments": {},
   "cell_type": "markdown",
   "metadata": {},
   "source": [
    "# Q5+ Q6. Create a custom exception class. Use this class to handle an exception + What are Custom Exceptions in python? Why do we need Custom Exceptions? Explain with an example."
   ]
  },
  {
   "cell_type": "code",
   "execution_count": null,
   "metadata": {},
   "outputs": [],
   "source": [
    "# Custom Exceptions in Python are user-defined exceptions created by the programmer to handle specific errors or situations that are not covered by built-in exceptions. They allow programmers to create specific error messages and handle exceptions in a more organized way.\n",
    "\n",
    "# Custom Exceptions are useful in situations where we want to define our own error types, instead of relying on the built-in exceptions. For example, consider a scenario where we are building an application that requires authentication, and we want to create a custom exception for when a user enters the wrong password. By creating a custom exception, we can handle this specific error in a more efficient and readable way.\n"
   ]
  },
  {
   "cell_type": "code",
   "execution_count": null,
   "metadata": {},
   "outputs": [
    {
     "name": "stdout",
     "output_type": "stream",
     "text": [
      "Error: The password entered is incorrect.\n"
     ]
    }
   ],
   "source": [
    "class PasswordIncorrectError(Exception):\n",
    "    pass\n",
    "\n",
    "\n",
    "def authenticate_user(username, password):\n",
    "    if password != \"correct_password\":\n",
    "        raise PasswordIncorrectError(\"The password entered is incorrect.\")\n",
    "    else:\n",
    "        print(\"Authentication successful.\")\n",
    "\n",
    "\n",
    "try:\n",
    "    authenticate_user(\"john_doe\", \"wrong_password\")\n",
    "    print('code passing from here')\n",
    "except PasswordIncorrectError as e:\n",
    "    print(\"Error:\", e)\n"
   ]
  },
  {
   "cell_type": "code",
   "execution_count": null,
   "metadata": {},
   "outputs": [],
   "source": []
  }
 ],
 "metadata": {
  "kernelspec": {
   "display_name": "Python 3",
   "language": "python",
   "name": "python3"
  },
  "language_info": {
   "codemirror_mode": {
    "name": "ipython",
    "version": 3
   },
   "file_extension": ".py",
   "mimetype": "text/x-python",
   "name": "python",
   "nbconvert_exporter": "python",
   "pygments_lexer": "ipython3",
   "version": "3.11.0"
  },
  "orig_nbformat": 4
 },
 "nbformat": 4,
 "nbformat_minor": 2
}

{
 "cells": [
  {
   "cell_type": "markdown",
   "metadata": {},
   "source": [
    "# Q1. Which function is used to open a file? What are the different modes of opening a file? Explain each mode of file opening.\n"
   ]
  },
  {
   "cell_type": "code",
   "execution_count": 20,
   "metadata": {},
   "outputs": [],
   "source": [
    "# open() function is used to open a file\n",
    "# r: Read mode - This mode is used to read data from a file. If the file does not exist, an error is raised.\n",
    "# w: Write mode - This mode is used to write data to a file. If the file already exists, its contents are truncated. If the file does not exist, it is created.\n",
    "# a: Append mode - This mode is used to append data to a file. If the file does not exist, it is created.\n",
    "# x: Exclusive creation mode - This mode is used to create a file, but if the file already exists, an error is raised.\n",
    "# b: Binary mode - This mode is used to open a file in binary mode, which is used to read and write binary data such as images, videos, etc.\n",
    "# t: Text mode - This mode is used to open a file in text mode, which is used to read and write text data."
   ]
  },
  {
   "attachments": {},
   "cell_type": "markdown",
   "metadata": {},
   "source": [
    "# Q2. Why close() function is used? Why is it important to close a file?\n"
   ]
  },
  {
   "cell_type": "code",
   "execution_count": 21,
   "metadata": {},
   "outputs": [],
   "source": [
    "# The close() function is used to close a file that was opened using the open() function.\n",
    "\n",
    "# Frees up system resources: When a file is opened, the operating system assigns system resources to the file, such as buffer memory and file handles. If the file is not closed properly, these resources are not released, which can lead to system performance issues or even crashes.\n",
    "\n",
    "# Saves data: When a file is closed, any unsaved data in the buffer is written to the disk, ensuring that the data is not lost.\n",
    "\n",
    "# Allows for other programs to access the file: If a file is opened and not closed, other programs may not be able to access or modify the file, since it is still being used by the first program that opened it.\n"
   ]
  },
  {
   "attachments": {},
   "cell_type": "markdown",
   "metadata": {},
   "source": [
    "# Q3. Write a python program to create a text file. Write ‘I want to become a Data Scientist’ in that file. Then close the file. Open this file and read the content of the file.   \n"
   ]
  },
  {
   "cell_type": "code",
   "execution_count": 22,
   "metadata": {},
   "outputs": [
    {
     "data": {
      "text/plain": [
       "'I want to become a Data Scientist'"
      ]
     },
     "execution_count": 22,
     "metadata": {},
     "output_type": "execute_result"
    }
   ],
   "source": [
    "file_name=open('file_handling.txt','w')\n",
    "file_name.write('I want to become a Data Scientist')\n",
    "file_name.close()\n",
    "\n",
    "file_name=open('file_handling.txt','r')\n",
    "data=file_name.read()\n",
    "file_name.close()\n",
    "\n",
    "data"
   ]
  },
  {
   "attachments": {},
   "cell_type": "markdown",
   "metadata": {},
   "source": [
    "# Q4. Explain the following with python code: read(), readline() and readlines()\n"
   ]
  },
  {
   "cell_type": "code",
   "execution_count": 23,
   "metadata": {},
   "outputs": [],
   "source": [
    "# read(): This method reads the entire contents of a file as a single string. When called without any arguments, it reads the entire file. You can also pass an optional integer argument to specify the number of bytes to read. For example, file.read(10) would read the first 10 bytes of the file.\n",
    "\n",
    "# readline(): This method reads a single line of a file at a time. When called without any arguments, it reads the next line of the file. You can also pass an optional integer argument to specify the maximum number of bytes to read. For example, file.readline(10) would read up to the first 10 bytes of the next line of the file.\n",
    "\n",
    "# readlines(): This method reads all the lines of a file and returns them as a list of strings. Each string represents a single line of the file, including the newline character at the end of the line. You can also pass an optional integer argument to specify the maximum number of bytes to read. For example, file.readlines(100) would read up to the first 100 bytes of the file and return a list of strings representing each line that was read\n"
   ]
  },
  {
   "cell_type": "code",
   "execution_count": 24,
   "metadata": {},
   "outputs": [
    {
     "name": "stdout",
     "output_type": "stream",
     "text": [
      "I want to become a Data Scientist\n"
     ]
    },
    {
     "data": {
      "text/plain": [
       "['I want to become a Data Scientist']"
      ]
     },
     "execution_count": 24,
     "metadata": {},
     "output_type": "execute_result"
    }
   ],
   "source": [
    "# read is already used in above code\n",
    "\n",
    "file_name = open('file_handling.txt', 'r')\n",
    "while True:\n",
    "    line = file_name.readline()\n",
    "    if not line:\n",
    "        break\n",
    "    print(line)\n",
    "file_name.close()\n",
    "\n",
    "file_name = open('file_handling.txt', 'r')\n",
    "data = file_name.readlines()\n",
    "file_name.close()\n",
    "\n",
    "data\n"
   ]
  },
  {
   "attachments": {},
   "cell_type": "markdown",
   "metadata": {},
   "source": [
    "# Q5. Explain why with statement is used with open(). What is the advantage of using with statement and open() together? "
   ]
  },
  {
   "attachments": {},
   "cell_type": "markdown",
   "metadata": {},
   "source": [
    "The main advantage of using the with statement with open() is that it eliminates the need to explicitly call the close() method on the file object. This is because the with statement automatically calls the close() method for us, even if the code inside the block raises an exception or encounters an error.\n",
    "\n",
    "Using the with statement also ensures that the file is properly closed, even if the code inside the block exits unexpectedly, such as due to a system crash or power failure. This helps prevent the file from being left open, which can cause errors or other issues."
   ]
  },
  {
   "attachments": {},
   "cell_type": "markdown",
   "metadata": {},
   "source": [
    "# Q6. Explain the write() and writelines() functions. Give a suitable example."
   ]
  },
  {
   "cell_type": "code",
   "execution_count": 25,
   "metadata": {},
   "outputs": [],
   "source": [
    "info='I will be a data scientist'\n",
    "\n",
    "with open('file_handling.txt', 'w') as f:\n",
    "    f.write(info)"
   ]
  },
  {
   "cell_type": "code",
   "execution_count": 26,
   "metadata": {},
   "outputs": [],
   "source": [
    "info = ['I will be a data scientist\\n','i can\\n','i will']\n",
    "\n",
    "with open('file_handling.txt', 'w') as f:\n",
    "    f.writelines(info)\n"
   ]
  }
 ],
 "metadata": {
  "kernelspec": {
   "display_name": "Python 3",
   "language": "python",
   "name": "python3"
  },
  "language_info": {
   "codemirror_mode": {
    "name": "ipython",
    "version": 3
   },
   "file_extension": ".py",
   "mimetype": "text/x-python",
   "name": "python",
   "nbconvert_exporter": "python",
   "pygments_lexer": "ipython3",
   "version": "3.11.0"
  },
  "orig_nbformat": 4
 },
 "nbformat": 4,
 "nbformat_minor": 2
}

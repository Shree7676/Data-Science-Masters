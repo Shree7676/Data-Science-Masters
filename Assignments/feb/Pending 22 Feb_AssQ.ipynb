{
 "cells": [
  {
   "cell_type": "code",
   "execution_count": 1,
   "metadata": {},
   "outputs": [],
   "source": [
    "# Go to this given URL and solve the following questions\n",
    "# URL: https: // www.youtube.com/@PW-Foundation/videos\n",
    "# Q1. Write a python program to extract the video URL of the first five videos.\n",
    "# Q2. Write a python program to extract the URL of the video thumbnails of the first five videos.\n",
    "# Q3. Write a python program to extract the title of the first five videos.\n",
    "# Q4. Write a python program to extract the number of views of the first five videos.\n",
    "# Q5. Write a python program to extract the time of posting of video for the first five videos.\n",
    "# Note: Save all the data scraped in the above questions in a CSV file.\n"
   ]
  },
  {
   "cell_type": "code",
   "execution_count": null,
   "metadata": {},
   "outputs": [],
   "source": []
  }
 ],
 "metadata": {
  "kernelspec": {
   "display_name": "Python 3",
   "language": "python",
   "name": "python3"
  },
  "language_info": {
   "codemirror_mode": {
    "name": "ipython",
    "version": 3
   },
   "file_extension": ".py",
   "mimetype": "text/x-python",
   "name": "python",
   "nbconvert_exporter": "python",
   "pygments_lexer": "ipython3",
   "version": "3.11.0"
  },
  "orig_nbformat": 4
 },
 "nbformat": 4,
 "nbformat_minor": 2
}
